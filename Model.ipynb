{
 "cells": [
  {
   "cell_type": "code",
   "execution_count": 1,
   "id": "3beb6cf9",
   "metadata": {},
   "outputs": [],
   "source": [
    "#Importing all the required libraries\n",
    "import pandas as pd\n",
    "import numpy as np\n",
    "import seaborn as sns\n",
    "import matplotlib.pyplot as plt\n",
    "%matplotlib inline\n",
    "from sklearn.preprocessing import LabelEncoder\n",
    "from sklearn.preprocessing import MinMaxScaler\n",
    "from sklearn.model_selection import train_test_split\n",
    "from sklearn.metrics import confusion_matrix, classification_report\n",
    "import warnings\n",
    "warnings.filterwarnings(\"ignore\")"
   ]
  },
  {
   "cell_type": "code",
   "execution_count": 2,
   "id": "d39e558a",
   "metadata": {
    "scrolled": true
   },
   "outputs": [
    {
     "data": {
      "text/html": [
       "<div>\n",
       "<style scoped>\n",
       "    .dataframe tbody tr th:only-of-type {\n",
       "        vertical-align: middle;\n",
       "    }\n",
       "\n",
       "    .dataframe tbody tr th {\n",
       "        vertical-align: top;\n",
       "    }\n",
       "\n",
       "    .dataframe thead th {\n",
       "        text-align: right;\n",
       "    }\n",
       "</style>\n",
       "<table border=\"1\" class=\"dataframe\">\n",
       "  <thead>\n",
       "    <tr style=\"text-align: right;\">\n",
       "      <th></th>\n",
       "      <th>Model Name</th>\n",
       "      <th>Column Name</th>\n",
       "      <th>Transaction Value (Count or Avg)</th>\n",
       "      <th>Transcation Month (YYYY|MM)</th>\n",
       "      <th>IsAnAnomaly</th>\n",
       "      <th>Snapshot Month (YYYYMM)</th>\n",
       "    </tr>\n",
       "  </thead>\n",
       "  <tbody>\n",
       "    <tr>\n",
       "      <th>0</th>\n",
       "      <td>TABLE_1</td>\n",
       "      <td>Column_756</td>\n",
       "      <td>428838.84</td>\n",
       "      <td>2016|02</td>\n",
       "      <td>NO</td>\n",
       "      <td>202104</td>\n",
       "    </tr>\n",
       "    <tr>\n",
       "      <th>1</th>\n",
       "      <td>TABLE_1</td>\n",
       "      <td>Column_756</td>\n",
       "      <td>569641.20</td>\n",
       "      <td>2016|03</td>\n",
       "      <td>NO</td>\n",
       "      <td>202104</td>\n",
       "    </tr>\n",
       "    <tr>\n",
       "      <th>2</th>\n",
       "      <td>TABLE_1</td>\n",
       "      <td>Column_756</td>\n",
       "      <td>446080.47</td>\n",
       "      <td>2016|04</td>\n",
       "      <td>NO</td>\n",
       "      <td>202104</td>\n",
       "    </tr>\n",
       "    <tr>\n",
       "      <th>3</th>\n",
       "      <td>TABLE_1</td>\n",
       "      <td>Column_756</td>\n",
       "      <td>498157.66</td>\n",
       "      <td>2016|05</td>\n",
       "      <td>NO</td>\n",
       "      <td>202104</td>\n",
       "    </tr>\n",
       "    <tr>\n",
       "      <th>4</th>\n",
       "      <td>TABLE_1</td>\n",
       "      <td>Column_756</td>\n",
       "      <td>521634.10</td>\n",
       "      <td>2016|06</td>\n",
       "      <td>NO</td>\n",
       "      <td>202104</td>\n",
       "    </tr>\n",
       "    <tr>\n",
       "      <th>...</th>\n",
       "      <td>...</td>\n",
       "      <td>...</td>\n",
       "      <td>...</td>\n",
       "      <td>...</td>\n",
       "      <td>...</td>\n",
       "      <td>...</td>\n",
       "    </tr>\n",
       "    <tr>\n",
       "      <th>2740</th>\n",
       "      <td>TABLE_1</td>\n",
       "      <td>Column_1815</td>\n",
       "      <td>0.00</td>\n",
       "      <td>2020|08</td>\n",
       "      <td>NaN</td>\n",
       "      <td>202102</td>\n",
       "    </tr>\n",
       "    <tr>\n",
       "      <th>2741</th>\n",
       "      <td>TABLE_1</td>\n",
       "      <td>Column_1815</td>\n",
       "      <td>0.00</td>\n",
       "      <td>2020|09</td>\n",
       "      <td>NaN</td>\n",
       "      <td>202102</td>\n",
       "    </tr>\n",
       "    <tr>\n",
       "      <th>2742</th>\n",
       "      <td>TABLE_1</td>\n",
       "      <td>Column_1815</td>\n",
       "      <td>0.00</td>\n",
       "      <td>2020|10</td>\n",
       "      <td>NaN</td>\n",
       "      <td>202102</td>\n",
       "    </tr>\n",
       "    <tr>\n",
       "      <th>2743</th>\n",
       "      <td>TABLE_1</td>\n",
       "      <td>Column_1815</td>\n",
       "      <td>0.00</td>\n",
       "      <td>2020|11</td>\n",
       "      <td>NaN</td>\n",
       "      <td>202102</td>\n",
       "    </tr>\n",
       "    <tr>\n",
       "      <th>2744</th>\n",
       "      <td>TABLE_1</td>\n",
       "      <td>Column_1815</td>\n",
       "      <td>0.00</td>\n",
       "      <td>2020|12</td>\n",
       "      <td>NaN</td>\n",
       "      <td>202102</td>\n",
       "    </tr>\n",
       "  </tbody>\n",
       "</table>\n",
       "<p>2745 rows × 6 columns</p>\n",
       "</div>"
      ],
      "text/plain": [
       "     Model Name  Column Name  Transaction Value (Count or Avg)  \\\n",
       "0       TABLE_1   Column_756                         428838.84   \n",
       "1       TABLE_1   Column_756                         569641.20   \n",
       "2       TABLE_1   Column_756                         446080.47   \n",
       "3       TABLE_1   Column_756                         498157.66   \n",
       "4       TABLE_1   Column_756                         521634.10   \n",
       "...         ...          ...                               ...   \n",
       "2740    TABLE_1  Column_1815                              0.00   \n",
       "2741    TABLE_1  Column_1815                              0.00   \n",
       "2742    TABLE_1  Column_1815                              0.00   \n",
       "2743    TABLE_1  Column_1815                              0.00   \n",
       "2744    TABLE_1  Column_1815                              0.00   \n",
       "\n",
       "     Transcation Month (YYYY|MM) IsAnAnomaly  Snapshot Month (YYYYMM)  \n",
       "0                        2016|02          NO                   202104  \n",
       "1                        2016|03          NO                   202104  \n",
       "2                        2016|04          NO                   202104  \n",
       "3                        2016|05          NO                   202104  \n",
       "4                        2016|06          NO                   202104  \n",
       "...                          ...         ...                      ...  \n",
       "2740                     2020|08         NaN                   202102  \n",
       "2741                     2020|09         NaN                   202102  \n",
       "2742                     2020|10         NaN                   202102  \n",
       "2743                     2020|11         NaN                   202102  \n",
       "2744                     2020|12         NaN                   202102  \n",
       "\n",
       "[2745 rows x 6 columns]"
      ]
     },
     "execution_count": 2,
     "metadata": {},
     "output_type": "execute_result"
    }
   ],
   "source": [
    "#loading the dataset\n",
    "df = pd.read_csv('sample_labeled_data (1).csv')\n",
    "df"
   ]
  },
  {
   "cell_type": "code",
   "execution_count": 3,
   "id": "4ae03cd9",
   "metadata": {},
   "outputs": [
    {
     "data": {
      "text/plain": [
       "(2745, 6)"
      ]
     },
     "execution_count": 3,
     "metadata": {},
     "output_type": "execute_result"
    }
   ],
   "source": [
    "df.shape"
   ]
  },
  {
   "cell_type": "code",
   "execution_count": 4,
   "id": "76428a1c",
   "metadata": {
    "scrolled": true
   },
   "outputs": [
    {
     "name": "stdout",
     "output_type": "stream",
     "text": [
      "<class 'pandas.core.frame.DataFrame'>\n",
      "RangeIndex: 2745 entries, 0 to 2744\n",
      "Data columns (total 6 columns):\n",
      " #   Column                            Non-Null Count  Dtype  \n",
      "---  ------                            --------------  -----  \n",
      " 0   Model Name                        2745 non-null   object \n",
      " 1   Column Name                       2745 non-null   object \n",
      " 2   Transaction Value (Count or Avg)  2745 non-null   float64\n",
      " 3   Transcation Month (YYYY|MM)       2745 non-null   object \n",
      " 4   IsAnAnomaly                       915 non-null    object \n",
      " 5   Snapshot Month (YYYYMM)           2745 non-null   int64  \n",
      "dtypes: float64(1), int64(1), object(4)\n",
      "memory usage: 128.8+ KB\n"
     ]
    }
   ],
   "source": [
    "df.info()"
   ]
  },
  {
   "cell_type": "markdown",
   "id": "ceedcfeb",
   "metadata": {},
   "source": [
    "- column IsAnAnomaly has only 915 non null values out of 2745"
   ]
  },
  {
   "cell_type": "code",
   "execution_count": 5,
   "id": "9ea52ee2",
   "metadata": {
    "scrolled": true
   },
   "outputs": [
    {
     "data": {
      "text/html": [
       "<div>\n",
       "<style scoped>\n",
       "    .dataframe tbody tr th:only-of-type {\n",
       "        vertical-align: middle;\n",
       "    }\n",
       "\n",
       "    .dataframe tbody tr th {\n",
       "        vertical-align: top;\n",
       "    }\n",
       "\n",
       "    .dataframe thead th {\n",
       "        text-align: right;\n",
       "    }\n",
       "</style>\n",
       "<table border=\"1\" class=\"dataframe\">\n",
       "  <thead>\n",
       "    <tr style=\"text-align: right;\">\n",
       "      <th></th>\n",
       "      <th>Transaction Value (Count or Avg)</th>\n",
       "      <th>Snapshot Month (YYYYMM)</th>\n",
       "    </tr>\n",
       "  </thead>\n",
       "  <tbody>\n",
       "    <tr>\n",
       "      <th>count</th>\n",
       "      <td>2.745000e+03</td>\n",
       "      <td>2745.000000</td>\n",
       "    </tr>\n",
       "    <tr>\n",
       "      <th>mean</th>\n",
       "      <td>3.349557e+06</td>\n",
       "      <td>202094.377778</td>\n",
       "    </tr>\n",
       "    <tr>\n",
       "      <th>std</th>\n",
       "      <td>7.714498e+06</td>\n",
       "      <td>25.830867</td>\n",
       "    </tr>\n",
       "    <tr>\n",
       "      <th>min</th>\n",
       "      <td>0.000000e+00</td>\n",
       "      <td>202011.000000</td>\n",
       "    </tr>\n",
       "    <tr>\n",
       "      <th>25%</th>\n",
       "      <td>0.000000e+00</td>\n",
       "      <td>202101.000000</td>\n",
       "    </tr>\n",
       "    <tr>\n",
       "      <th>50%</th>\n",
       "      <td>1.649302e+05</td>\n",
       "      <td>202102.000000</td>\n",
       "    </tr>\n",
       "    <tr>\n",
       "      <th>75%</th>\n",
       "      <td>2.632313e+06</td>\n",
       "      <td>202103.000000</td>\n",
       "    </tr>\n",
       "    <tr>\n",
       "      <th>max</th>\n",
       "      <td>3.964377e+07</td>\n",
       "      <td>202104.000000</td>\n",
       "    </tr>\n",
       "  </tbody>\n",
       "</table>\n",
       "</div>"
      ],
      "text/plain": [
       "       Transaction Value (Count or Avg)  Snapshot Month (YYYYMM)\n",
       "count                      2.745000e+03              2745.000000\n",
       "mean                       3.349557e+06            202094.377778\n",
       "std                        7.714498e+06                25.830867\n",
       "min                        0.000000e+00            202011.000000\n",
       "25%                        0.000000e+00            202101.000000\n",
       "50%                        1.649302e+05            202102.000000\n",
       "75%                        2.632313e+06            202103.000000\n",
       "max                        3.964377e+07            202104.000000"
      ]
     },
     "execution_count": 5,
     "metadata": {},
     "output_type": "execute_result"
    }
   ],
   "source": [
    "df.describe()"
   ]
  },
  {
   "cell_type": "markdown",
   "id": "ed8ab895",
   "metadata": {},
   "source": [
    "- Difference between mean and meadian is significant for column Transaction Value (Count or Avg). So, it is not following normal distribution. "
   ]
  },
  {
   "cell_type": "code",
   "execution_count": 6,
   "id": "b9782b1d",
   "metadata": {
    "scrolled": false
   },
   "outputs": [
    {
     "data": {
      "text/plain": [
       "Model Name                           object\n",
       "Column Name                          object\n",
       "Transaction Value (Count or Avg)    float64\n",
       "Transcation Month (YYYY|MM)          object\n",
       "IsAnAnomaly                          object\n",
       "Snapshot Month (YYYYMM)               int64\n",
       "dtype: object"
      ]
     },
     "execution_count": 6,
     "metadata": {},
     "output_type": "execute_result"
    }
   ],
   "source": [
    "df.dtypes"
   ]
  },
  {
   "cell_type": "markdown",
   "id": "3709f393",
   "metadata": {},
   "source": [
    "#### Data Preprocessing"
   ]
  },
  {
   "cell_type": "code",
   "execution_count": 7,
   "id": "f2713206",
   "metadata": {
    "scrolled": false
   },
   "outputs": [
    {
     "data": {
      "text/html": [
       "<div>\n",
       "<style scoped>\n",
       "    .dataframe tbody tr th:only-of-type {\n",
       "        vertical-align: middle;\n",
       "    }\n",
       "\n",
       "    .dataframe tbody tr th {\n",
       "        vertical-align: top;\n",
       "    }\n",
       "\n",
       "    .dataframe thead th {\n",
       "        text-align: right;\n",
       "    }\n",
       "</style>\n",
       "<table border=\"1\" class=\"dataframe\">\n",
       "  <thead>\n",
       "    <tr style=\"text-align: right;\">\n",
       "      <th></th>\n",
       "      <th>Model Name</th>\n",
       "      <th>Column Name</th>\n",
       "      <th>Transaction Value (Count or Avg)</th>\n",
       "      <th>Transcation Month (YYYY|MM)</th>\n",
       "      <th>IsAnAnomaly</th>\n",
       "      <th>Snapshot Month (YYYYMM)</th>\n",
       "    </tr>\n",
       "  </thead>\n",
       "  <tbody>\n",
       "    <tr>\n",
       "      <th>0</th>\n",
       "      <td>TABLE_1</td>\n",
       "      <td>Column_756</td>\n",
       "      <td>428838.84</td>\n",
       "      <td>2016-02-01</td>\n",
       "      <td>NO</td>\n",
       "      <td>2021-04-01</td>\n",
       "    </tr>\n",
       "    <tr>\n",
       "      <th>1</th>\n",
       "      <td>TABLE_1</td>\n",
       "      <td>Column_756</td>\n",
       "      <td>569641.20</td>\n",
       "      <td>2016-03-01</td>\n",
       "      <td>NO</td>\n",
       "      <td>2021-04-01</td>\n",
       "    </tr>\n",
       "    <tr>\n",
       "      <th>2</th>\n",
       "      <td>TABLE_1</td>\n",
       "      <td>Column_756</td>\n",
       "      <td>446080.47</td>\n",
       "      <td>2016-04-01</td>\n",
       "      <td>NO</td>\n",
       "      <td>2021-04-01</td>\n",
       "    </tr>\n",
       "    <tr>\n",
       "      <th>3</th>\n",
       "      <td>TABLE_1</td>\n",
       "      <td>Column_756</td>\n",
       "      <td>498157.66</td>\n",
       "      <td>2016-05-01</td>\n",
       "      <td>NO</td>\n",
       "      <td>2021-04-01</td>\n",
       "    </tr>\n",
       "    <tr>\n",
       "      <th>4</th>\n",
       "      <td>TABLE_1</td>\n",
       "      <td>Column_756</td>\n",
       "      <td>521634.10</td>\n",
       "      <td>2016-06-01</td>\n",
       "      <td>NO</td>\n",
       "      <td>2021-04-01</td>\n",
       "    </tr>\n",
       "    <tr>\n",
       "      <th>...</th>\n",
       "      <td>...</td>\n",
       "      <td>...</td>\n",
       "      <td>...</td>\n",
       "      <td>...</td>\n",
       "      <td>...</td>\n",
       "      <td>...</td>\n",
       "    </tr>\n",
       "    <tr>\n",
       "      <th>2740</th>\n",
       "      <td>TABLE_1</td>\n",
       "      <td>Column_1815</td>\n",
       "      <td>0.00</td>\n",
       "      <td>2020-08-01</td>\n",
       "      <td>NaN</td>\n",
       "      <td>2021-02-01</td>\n",
       "    </tr>\n",
       "    <tr>\n",
       "      <th>2741</th>\n",
       "      <td>TABLE_1</td>\n",
       "      <td>Column_1815</td>\n",
       "      <td>0.00</td>\n",
       "      <td>2020-09-01</td>\n",
       "      <td>NaN</td>\n",
       "      <td>2021-02-01</td>\n",
       "    </tr>\n",
       "    <tr>\n",
       "      <th>2742</th>\n",
       "      <td>TABLE_1</td>\n",
       "      <td>Column_1815</td>\n",
       "      <td>0.00</td>\n",
       "      <td>2020-10-01</td>\n",
       "      <td>NaN</td>\n",
       "      <td>2021-02-01</td>\n",
       "    </tr>\n",
       "    <tr>\n",
       "      <th>2743</th>\n",
       "      <td>TABLE_1</td>\n",
       "      <td>Column_1815</td>\n",
       "      <td>0.00</td>\n",
       "      <td>2020-11-01</td>\n",
       "      <td>NaN</td>\n",
       "      <td>2021-02-01</td>\n",
       "    </tr>\n",
       "    <tr>\n",
       "      <th>2744</th>\n",
       "      <td>TABLE_1</td>\n",
       "      <td>Column_1815</td>\n",
       "      <td>0.00</td>\n",
       "      <td>2020-12-01</td>\n",
       "      <td>NaN</td>\n",
       "      <td>2021-02-01</td>\n",
       "    </tr>\n",
       "  </tbody>\n",
       "</table>\n",
       "<p>2745 rows × 6 columns</p>\n",
       "</div>"
      ],
      "text/plain": [
       "     Model Name  Column Name  Transaction Value (Count or Avg)  \\\n",
       "0       TABLE_1   Column_756                         428838.84   \n",
       "1       TABLE_1   Column_756                         569641.20   \n",
       "2       TABLE_1   Column_756                         446080.47   \n",
       "3       TABLE_1   Column_756                         498157.66   \n",
       "4       TABLE_1   Column_756                         521634.10   \n",
       "...         ...          ...                               ...   \n",
       "2740    TABLE_1  Column_1815                              0.00   \n",
       "2741    TABLE_1  Column_1815                              0.00   \n",
       "2742    TABLE_1  Column_1815                              0.00   \n",
       "2743    TABLE_1  Column_1815                              0.00   \n",
       "2744    TABLE_1  Column_1815                              0.00   \n",
       "\n",
       "     Transcation Month (YYYY|MM) IsAnAnomaly Snapshot Month (YYYYMM)  \n",
       "0                     2016-02-01          NO              2021-04-01  \n",
       "1                     2016-03-01          NO              2021-04-01  \n",
       "2                     2016-04-01          NO              2021-04-01  \n",
       "3                     2016-05-01          NO              2021-04-01  \n",
       "4                     2016-06-01          NO              2021-04-01  \n",
       "...                          ...         ...                     ...  \n",
       "2740                  2020-08-01         NaN              2021-02-01  \n",
       "2741                  2020-09-01         NaN              2021-02-01  \n",
       "2742                  2020-10-01         NaN              2021-02-01  \n",
       "2743                  2020-11-01         NaN              2021-02-01  \n",
       "2744                  2020-12-01         NaN              2021-02-01  \n",
       "\n",
       "[2745 rows x 6 columns]"
      ]
     },
     "execution_count": 7,
     "metadata": {},
     "output_type": "execute_result"
    }
   ],
   "source": [
    "# Changing Transcation Month (YYYY|MM) and Snapshot Month (YYYYMM) columns data type into datetime objects\n",
    "df['Transcation Month (YYYY|MM)'] = df['Transcation Month (YYYY|MM)'].apply(lambda x: x.split('|'))\n",
    "df['Transcation Month (YYYY|MM)'] = df['Transcation Month (YYYY|MM)'].apply(lambda x: ''.join(x))\n",
    "df['Transcation Month (YYYY|MM)'] = pd.to_datetime(df['Transcation Month (YYYY|MM)'], format='%Y%m')\n",
    "df['Snapshot Month (YYYYMM)'] = pd.to_datetime(df['Snapshot Month (YYYYMM)'], format='%Y%m')\n",
    "df"
   ]
  },
  {
   "cell_type": "code",
   "execution_count": 8,
   "id": "49e63a34",
   "metadata": {
    "scrolled": false
   },
   "outputs": [
    {
     "data": {
      "text/html": [
       "<div>\n",
       "<style scoped>\n",
       "    .dataframe tbody tr th:only-of-type {\n",
       "        vertical-align: middle;\n",
       "    }\n",
       "\n",
       "    .dataframe tbody tr th {\n",
       "        vertical-align: top;\n",
       "    }\n",
       "\n",
       "    .dataframe thead th {\n",
       "        text-align: right;\n",
       "    }\n",
       "</style>\n",
       "<table border=\"1\" class=\"dataframe\">\n",
       "  <thead>\n",
       "    <tr style=\"text-align: right;\">\n",
       "      <th></th>\n",
       "      <th>Model Name</th>\n",
       "      <th>Column Name</th>\n",
       "      <th>Transaction Value (Count or Avg)</th>\n",
       "      <th>Transcation Month (YYYY|MM)</th>\n",
       "      <th>IsAnAnomaly</th>\n",
       "      <th>Snapshot Month (YYYYMM)</th>\n",
       "    </tr>\n",
       "  </thead>\n",
       "  <tbody>\n",
       "    <tr>\n",
       "      <th>0</th>\n",
       "      <td>TABLE_1</td>\n",
       "      <td>756</td>\n",
       "      <td>428838.84</td>\n",
       "      <td>2016-02-01</td>\n",
       "      <td>NO</td>\n",
       "      <td>2021-04-01</td>\n",
       "    </tr>\n",
       "    <tr>\n",
       "      <th>1</th>\n",
       "      <td>TABLE_1</td>\n",
       "      <td>756</td>\n",
       "      <td>569641.20</td>\n",
       "      <td>2016-03-01</td>\n",
       "      <td>NO</td>\n",
       "      <td>2021-04-01</td>\n",
       "    </tr>\n",
       "    <tr>\n",
       "      <th>2</th>\n",
       "      <td>TABLE_1</td>\n",
       "      <td>756</td>\n",
       "      <td>446080.47</td>\n",
       "      <td>2016-04-01</td>\n",
       "      <td>NO</td>\n",
       "      <td>2021-04-01</td>\n",
       "    </tr>\n",
       "    <tr>\n",
       "      <th>3</th>\n",
       "      <td>TABLE_1</td>\n",
       "      <td>756</td>\n",
       "      <td>498157.66</td>\n",
       "      <td>2016-05-01</td>\n",
       "      <td>NO</td>\n",
       "      <td>2021-04-01</td>\n",
       "    </tr>\n",
       "    <tr>\n",
       "      <th>4</th>\n",
       "      <td>TABLE_1</td>\n",
       "      <td>756</td>\n",
       "      <td>521634.10</td>\n",
       "      <td>2016-06-01</td>\n",
       "      <td>NO</td>\n",
       "      <td>2021-04-01</td>\n",
       "    </tr>\n",
       "    <tr>\n",
       "      <th>...</th>\n",
       "      <td>...</td>\n",
       "      <td>...</td>\n",
       "      <td>...</td>\n",
       "      <td>...</td>\n",
       "      <td>...</td>\n",
       "      <td>...</td>\n",
       "    </tr>\n",
       "    <tr>\n",
       "      <th>2740</th>\n",
       "      <td>TABLE_1</td>\n",
       "      <td>1815</td>\n",
       "      <td>0.00</td>\n",
       "      <td>2020-08-01</td>\n",
       "      <td>NaN</td>\n",
       "      <td>2021-02-01</td>\n",
       "    </tr>\n",
       "    <tr>\n",
       "      <th>2741</th>\n",
       "      <td>TABLE_1</td>\n",
       "      <td>1815</td>\n",
       "      <td>0.00</td>\n",
       "      <td>2020-09-01</td>\n",
       "      <td>NaN</td>\n",
       "      <td>2021-02-01</td>\n",
       "    </tr>\n",
       "    <tr>\n",
       "      <th>2742</th>\n",
       "      <td>TABLE_1</td>\n",
       "      <td>1815</td>\n",
       "      <td>0.00</td>\n",
       "      <td>2020-10-01</td>\n",
       "      <td>NaN</td>\n",
       "      <td>2021-02-01</td>\n",
       "    </tr>\n",
       "    <tr>\n",
       "      <th>2743</th>\n",
       "      <td>TABLE_1</td>\n",
       "      <td>1815</td>\n",
       "      <td>0.00</td>\n",
       "      <td>2020-11-01</td>\n",
       "      <td>NaN</td>\n",
       "      <td>2021-02-01</td>\n",
       "    </tr>\n",
       "    <tr>\n",
       "      <th>2744</th>\n",
       "      <td>TABLE_1</td>\n",
       "      <td>1815</td>\n",
       "      <td>0.00</td>\n",
       "      <td>2020-12-01</td>\n",
       "      <td>NaN</td>\n",
       "      <td>2021-02-01</td>\n",
       "    </tr>\n",
       "  </tbody>\n",
       "</table>\n",
       "<p>2745 rows × 6 columns</p>\n",
       "</div>"
      ],
      "text/plain": [
       "     Model Name Column Name  Transaction Value (Count or Avg)  \\\n",
       "0       TABLE_1         756                         428838.84   \n",
       "1       TABLE_1         756                         569641.20   \n",
       "2       TABLE_1         756                         446080.47   \n",
       "3       TABLE_1         756                         498157.66   \n",
       "4       TABLE_1         756                         521634.10   \n",
       "...         ...         ...                               ...   \n",
       "2740    TABLE_1        1815                              0.00   \n",
       "2741    TABLE_1        1815                              0.00   \n",
       "2742    TABLE_1        1815                              0.00   \n",
       "2743    TABLE_1        1815                              0.00   \n",
       "2744    TABLE_1        1815                              0.00   \n",
       "\n",
       "     Transcation Month (YYYY|MM) IsAnAnomaly Snapshot Month (YYYYMM)  \n",
       "0                     2016-02-01          NO              2021-04-01  \n",
       "1                     2016-03-01          NO              2021-04-01  \n",
       "2                     2016-04-01          NO              2021-04-01  \n",
       "3                     2016-05-01          NO              2021-04-01  \n",
       "4                     2016-06-01          NO              2021-04-01  \n",
       "...                          ...         ...                     ...  \n",
       "2740                  2020-08-01         NaN              2021-02-01  \n",
       "2741                  2020-09-01         NaN              2021-02-01  \n",
       "2742                  2020-10-01         NaN              2021-02-01  \n",
       "2743                  2020-11-01         NaN              2021-02-01  \n",
       "2744                  2020-12-01         NaN              2021-02-01  \n",
       "\n",
       "[2745 rows x 6 columns]"
      ]
     },
     "execution_count": 8,
     "metadata": {},
     "output_type": "execute_result"
    }
   ],
   "source": [
    "#preprocessing of column Name\n",
    "df['Column Name'] = df['Column Name'].apply(lambda x: x.split('_')[1])\n",
    "df"
   ]
  },
  {
   "cell_type": "markdown",
   "id": "b54e9eb3",
   "metadata": {},
   "source": [
    "- To represent Column Name column values, splitted the each record to get it represented in numeric data type, discarded string elements, instead of applying encoding technique."
   ]
  },
  {
   "cell_type": "markdown",
   "id": "7f196f94",
   "metadata": {},
   "source": [
    "#### Dividing the dataset into Labelled (Yes or No) and unlabelled (NA) using IsAnAnomaly column"
   ]
  },
  {
   "cell_type": "markdown",
   "id": "310329f2",
   "metadata": {},
   "source": [
    "- We will split the data into labelled and unlabelled. We train a model on labelled dataset, using this model, we predict labels for unlabelled data."
   ]
  },
  {
   "cell_type": "code",
   "execution_count": 9,
   "id": "9a27aeda",
   "metadata": {},
   "outputs": [],
   "source": [
    "# creating labelled dataset\n",
    "labeled_df = df.dropna()"
   ]
  },
  {
   "cell_type": "code",
   "execution_count": 10,
   "id": "c01ae144",
   "metadata": {
    "scrolled": false
   },
   "outputs": [
    {
     "data": {
      "text/html": [
       "<div>\n",
       "<style scoped>\n",
       "    .dataframe tbody tr th:only-of-type {\n",
       "        vertical-align: middle;\n",
       "    }\n",
       "\n",
       "    .dataframe tbody tr th {\n",
       "        vertical-align: top;\n",
       "    }\n",
       "\n",
       "    .dataframe thead th {\n",
       "        text-align: right;\n",
       "    }\n",
       "</style>\n",
       "<table border=\"1\" class=\"dataframe\">\n",
       "  <thead>\n",
       "    <tr style=\"text-align: right;\">\n",
       "      <th></th>\n",
       "      <th>Model Name</th>\n",
       "      <th>Column Name</th>\n",
       "      <th>Transaction Value (Count or Avg)</th>\n",
       "      <th>Transcation Month (YYYY|MM)</th>\n",
       "      <th>IsAnAnomaly</th>\n",
       "      <th>Snapshot Month (YYYYMM)</th>\n",
       "    </tr>\n",
       "  </thead>\n",
       "  <tbody>\n",
       "    <tr>\n",
       "      <th>61</th>\n",
       "      <td>TABLE_1</td>\n",
       "      <td>756</td>\n",
       "      <td>528349.70</td>\n",
       "      <td>2016-01-01</td>\n",
       "      <td>unknown</td>\n",
       "      <td>2021-03-01</td>\n",
       "    </tr>\n",
       "    <tr>\n",
       "      <th>62</th>\n",
       "      <td>TABLE_1</td>\n",
       "      <td>756</td>\n",
       "      <td>428838.84</td>\n",
       "      <td>2016-02-01</td>\n",
       "      <td>unknown</td>\n",
       "      <td>2021-03-01</td>\n",
       "    </tr>\n",
       "    <tr>\n",
       "      <th>63</th>\n",
       "      <td>TABLE_1</td>\n",
       "      <td>756</td>\n",
       "      <td>569641.20</td>\n",
       "      <td>2016-03-01</td>\n",
       "      <td>unknown</td>\n",
       "      <td>2021-03-01</td>\n",
       "    </tr>\n",
       "    <tr>\n",
       "      <th>64</th>\n",
       "      <td>TABLE_1</td>\n",
       "      <td>756</td>\n",
       "      <td>446080.47</td>\n",
       "      <td>2016-04-01</td>\n",
       "      <td>unknown</td>\n",
       "      <td>2021-03-01</td>\n",
       "    </tr>\n",
       "    <tr>\n",
       "      <th>65</th>\n",
       "      <td>TABLE_1</td>\n",
       "      <td>756</td>\n",
       "      <td>498157.66</td>\n",
       "      <td>2016-05-01</td>\n",
       "      <td>unknown</td>\n",
       "      <td>2021-03-01</td>\n",
       "    </tr>\n",
       "    <tr>\n",
       "      <th>...</th>\n",
       "      <td>...</td>\n",
       "      <td>...</td>\n",
       "      <td>...</td>\n",
       "      <td>...</td>\n",
       "      <td>...</td>\n",
       "      <td>...</td>\n",
       "    </tr>\n",
       "    <tr>\n",
       "      <th>2740</th>\n",
       "      <td>TABLE_1</td>\n",
       "      <td>1815</td>\n",
       "      <td>0.00</td>\n",
       "      <td>2020-08-01</td>\n",
       "      <td>unknown</td>\n",
       "      <td>2021-02-01</td>\n",
       "    </tr>\n",
       "    <tr>\n",
       "      <th>2741</th>\n",
       "      <td>TABLE_1</td>\n",
       "      <td>1815</td>\n",
       "      <td>0.00</td>\n",
       "      <td>2020-09-01</td>\n",
       "      <td>unknown</td>\n",
       "      <td>2021-02-01</td>\n",
       "    </tr>\n",
       "    <tr>\n",
       "      <th>2742</th>\n",
       "      <td>TABLE_1</td>\n",
       "      <td>1815</td>\n",
       "      <td>0.00</td>\n",
       "      <td>2020-10-01</td>\n",
       "      <td>unknown</td>\n",
       "      <td>2021-02-01</td>\n",
       "    </tr>\n",
       "    <tr>\n",
       "      <th>2743</th>\n",
       "      <td>TABLE_1</td>\n",
       "      <td>1815</td>\n",
       "      <td>0.00</td>\n",
       "      <td>2020-11-01</td>\n",
       "      <td>unknown</td>\n",
       "      <td>2021-02-01</td>\n",
       "    </tr>\n",
       "    <tr>\n",
       "      <th>2744</th>\n",
       "      <td>TABLE_1</td>\n",
       "      <td>1815</td>\n",
       "      <td>0.00</td>\n",
       "      <td>2020-12-01</td>\n",
       "      <td>unknown</td>\n",
       "      <td>2021-02-01</td>\n",
       "    </tr>\n",
       "  </tbody>\n",
       "</table>\n",
       "<p>1830 rows × 6 columns</p>\n",
       "</div>"
      ],
      "text/plain": [
       "     Model Name Column Name  Transaction Value (Count or Avg)  \\\n",
       "61      TABLE_1         756                         528349.70   \n",
       "62      TABLE_1         756                         428838.84   \n",
       "63      TABLE_1         756                         569641.20   \n",
       "64      TABLE_1         756                         446080.47   \n",
       "65      TABLE_1         756                         498157.66   \n",
       "...         ...         ...                               ...   \n",
       "2740    TABLE_1        1815                              0.00   \n",
       "2741    TABLE_1        1815                              0.00   \n",
       "2742    TABLE_1        1815                              0.00   \n",
       "2743    TABLE_1        1815                              0.00   \n",
       "2744    TABLE_1        1815                              0.00   \n",
       "\n",
       "     Transcation Month (YYYY|MM) IsAnAnomaly Snapshot Month (YYYYMM)  \n",
       "61                    2016-01-01     unknown              2021-03-01  \n",
       "62                    2016-02-01     unknown              2021-03-01  \n",
       "63                    2016-03-01     unknown              2021-03-01  \n",
       "64                    2016-04-01     unknown              2021-03-01  \n",
       "65                    2016-05-01     unknown              2021-03-01  \n",
       "...                          ...         ...                     ...  \n",
       "2740                  2020-08-01     unknown              2021-02-01  \n",
       "2741                  2020-09-01     unknown              2021-02-01  \n",
       "2742                  2020-10-01     unknown              2021-02-01  \n",
       "2743                  2020-11-01     unknown              2021-02-01  \n",
       "2744                  2020-12-01     unknown              2021-02-01  \n",
       "\n",
       "[1830 rows x 6 columns]"
      ]
     },
     "execution_count": 10,
     "metadata": {},
     "output_type": "execute_result"
    }
   ],
   "source": [
    "# Assigning df to variable_copy. so that we can keep our actual dataset as it is\n",
    "df1 = df \n",
    "# replacing NA values with a string 'unknown' to perform some analysis\n",
    "df1['IsAnAnomaly'].fillna(value='unknown',inplace = True)\n",
    "# creating unlabelled dataset\n",
    "unlabeled_df = df1[df1['IsAnAnomaly'] == 'unknown']\n",
    "unlabeled_df"
   ]
  },
  {
   "cell_type": "markdown",
   "id": "ae95a314",
   "metadata": {},
   "source": [
    "#### Building predictive models using labeled data"
   ]
  },
  {
   "cell_type": "code",
   "execution_count": 11,
   "id": "f9a3b076",
   "metadata": {
    "scrolled": true
   },
   "outputs": [
    {
     "data": {
      "text/plain": [
       "array(['NO', 'YES'], dtype=object)"
      ]
     },
     "execution_count": 11,
     "metadata": {},
     "output_type": "execute_result"
    }
   ],
   "source": [
    "labeled_df['IsAnAnomaly'].unique()"
   ]
  },
  {
   "cell_type": "markdown",
   "id": "0b705506",
   "metadata": {},
   "source": [
    "- Labelled dataset's dependent variables has two classes in it i.e Yes and No"
   ]
  },
  {
   "cell_type": "code",
   "execution_count": 12,
   "id": "70f803dc",
   "metadata": {},
   "outputs": [
    {
     "data": {
      "text/plain": [
       "NO     610\n",
       "YES    305\n",
       "Name: IsAnAnomaly, dtype: int64"
      ]
     },
     "execution_count": 12,
     "metadata": {},
     "output_type": "execute_result"
    }
   ],
   "source": [
    "labeled_df['IsAnAnomaly'].value_counts()"
   ]
  },
  {
   "cell_type": "code",
   "execution_count": 13,
   "id": "4f1137e3",
   "metadata": {
    "scrolled": true
   },
   "outputs": [
    {
     "data": {
      "text/plain": [
       "<AxesSubplot:xlabel='IsAnAnomaly', ylabel='Count'>"
      ]
     },
     "execution_count": 13,
     "metadata": {},
     "output_type": "execute_result"
    },
    {
     "data": {
      "image/png": "[encoded data removed]",
      "text/plain": [
       "<Figure size 432x288 with 1 Axes>"
      ]
     },
     "metadata": {
      "needs_background": "light"
     },
     "output_type": "display_data"
    }
   ],
   "source": [
    "sns.histplot(labeled_df['IsAnAnomaly'])"
   ]
  },
  {
   "cell_type": "markdown",
   "id": "e8cee99d",
   "metadata": {},
   "source": [
    "- Clear imbalance between output classes"
   ]
  },
  {
   "cell_type": "code",
   "execution_count": 14,
   "id": "a3706759",
   "metadata": {},
   "outputs": [],
   "source": [
    "# Filtering the dataset considering required columns\n",
    "columns = ['Column Name','Transaction Value (Count or Avg)','Snapshot Month (YYYYMM)','IsAnAnomaly'] "
   ]
  },
  {
   "cell_type": "code",
   "execution_count": 15,
   "id": "cc261c67",
   "metadata": {
    "scrolled": true
   },
   "outputs": [
    {
     "data": {
      "text/html": [
       "<div>\n",
       "<style scoped>\n",
       "    .dataframe tbody tr th:only-of-type {\n",
       "        vertical-align: middle;\n",
       "    }\n",
       "\n",
       "    .dataframe tbody tr th {\n",
       "        vertical-align: top;\n",
       "    }\n",
       "\n",
       "    .dataframe thead th {\n",
       "        text-align: right;\n",
       "    }\n",
       "</style>\n",
       "<table border=\"1\" class=\"dataframe\">\n",
       "  <thead>\n",
       "    <tr style=\"text-align: right;\">\n",
       "      <th></th>\n",
       "      <th>Column Name</th>\n",
       "      <th>Transaction Value (Count or Avg)</th>\n",
       "      <th>Snapshot Month (YYYYMM)</th>\n",
       "      <th>IsAnAnomaly</th>\n",
       "    </tr>\n",
       "  </thead>\n",
       "  <tbody>\n",
       "    <tr>\n",
       "      <th>0</th>\n",
       "      <td>756</td>\n",
       "      <td>428838.84</td>\n",
       "      <td>2021-04-01</td>\n",
       "      <td>NO</td>\n",
       "    </tr>\n",
       "    <tr>\n",
       "      <th>1</th>\n",
       "      <td>756</td>\n",
       "      <td>569641.20</td>\n",
       "      <td>2021-04-01</td>\n",
       "      <td>NO</td>\n",
       "    </tr>\n",
       "    <tr>\n",
       "      <th>2</th>\n",
       "      <td>756</td>\n",
       "      <td>446080.47</td>\n",
       "      <td>2021-04-01</td>\n",
       "      <td>NO</td>\n",
       "    </tr>\n",
       "    <tr>\n",
       "      <th>3</th>\n",
       "      <td>756</td>\n",
       "      <td>498157.66</td>\n",
       "      <td>2021-04-01</td>\n",
       "      <td>NO</td>\n",
       "    </tr>\n",
       "    <tr>\n",
       "      <th>4</th>\n",
       "      <td>756</td>\n",
       "      <td>521634.10</td>\n",
       "      <td>2021-04-01</td>\n",
       "      <td>NO</td>\n",
       "    </tr>\n",
       "    <tr>\n",
       "      <th>...</th>\n",
       "      <td>...</td>\n",
       "      <td>...</td>\n",
       "      <td>...</td>\n",
       "      <td>...</td>\n",
       "    </tr>\n",
       "    <tr>\n",
       "      <th>2618</th>\n",
       "      <td>1815</td>\n",
       "      <td>0.00</td>\n",
       "      <td>2021-04-01</td>\n",
       "      <td>NO</td>\n",
       "    </tr>\n",
       "    <tr>\n",
       "      <th>2619</th>\n",
       "      <td>1815</td>\n",
       "      <td>0.00</td>\n",
       "      <td>2021-04-01</td>\n",
       "      <td>NO</td>\n",
       "    </tr>\n",
       "    <tr>\n",
       "      <th>2620</th>\n",
       "      <td>1815</td>\n",
       "      <td>0.00</td>\n",
       "      <td>2021-04-01</td>\n",
       "      <td>NO</td>\n",
       "    </tr>\n",
       "    <tr>\n",
       "      <th>2621</th>\n",
       "      <td>1815</td>\n",
       "      <td>0.00</td>\n",
       "      <td>2021-04-01</td>\n",
       "      <td>NO</td>\n",
       "    </tr>\n",
       "    <tr>\n",
       "      <th>2622</th>\n",
       "      <td>1815</td>\n",
       "      <td>0.00</td>\n",
       "      <td>2021-04-01</td>\n",
       "      <td>NO</td>\n",
       "    </tr>\n",
       "  </tbody>\n",
       "</table>\n",
       "<p>915 rows × 4 columns</p>\n",
       "</div>"
      ],
      "text/plain": [
       "     Column Name  Transaction Value (Count or Avg) Snapshot Month (YYYYMM)  \\\n",
       "0            756                         428838.84              2021-04-01   \n",
       "1            756                         569641.20              2021-04-01   \n",
       "2            756                         446080.47              2021-04-01   \n",
       "3            756                         498157.66              2021-04-01   \n",
       "4            756                         521634.10              2021-04-01   \n",
       "...          ...                               ...                     ...   \n",
       "2618        1815                              0.00              2021-04-01   \n",
       "2619        1815                              0.00              2021-04-01   \n",
       "2620        1815                              0.00              2021-04-01   \n",
       "2621        1815                              0.00              2021-04-01   \n",
       "2622        1815                              0.00              2021-04-01   \n",
       "\n",
       "     IsAnAnomaly  \n",
       "0             NO  \n",
       "1             NO  \n",
       "2             NO  \n",
       "3             NO  \n",
       "4             NO  \n",
       "...          ...  \n",
       "2618          NO  \n",
       "2619          NO  \n",
       "2620          NO  \n",
       "2621          NO  \n",
       "2622          NO  \n",
       "\n",
       "[915 rows x 4 columns]"
      ]
     },
     "execution_count": 15,
     "metadata": {},
     "output_type": "execute_result"
    }
   ],
   "source": [
    "l_df = labeled_df.reindex(columns = columns)\n",
    "l_df"
   ]
  },
  {
   "cell_type": "code",
   "execution_count": 16,
   "id": "98d4805b",
   "metadata": {},
   "outputs": [
    {
     "data": {
      "text/html": [
       "<div>\n",
       "<style scoped>\n",
       "    .dataframe tbody tr th:only-of-type {\n",
       "        vertical-align: middle;\n",
       "    }\n",
       "\n",
       "    .dataframe tbody tr th {\n",
       "        vertical-align: top;\n",
       "    }\n",
       "\n",
       "    .dataframe thead th {\n",
       "        text-align: right;\n",
       "    }\n",
       "</style>\n",
       "<table border=\"1\" class=\"dataframe\">\n",
       "  <thead>\n",
       "    <tr style=\"text-align: right;\">\n",
       "      <th></th>\n",
       "      <th>Column Name</th>\n",
       "      <th>Transaction Value (Count or Avg)</th>\n",
       "      <th>Snapshot Month (YYYYMM)</th>\n",
       "      <th>IsAnAnomaly</th>\n",
       "    </tr>\n",
       "  </thead>\n",
       "  <tbody>\n",
       "    <tr>\n",
       "      <th>0</th>\n",
       "      <td>756</td>\n",
       "      <td>428838.84</td>\n",
       "      <td>2021-04-01</td>\n",
       "      <td>0</td>\n",
       "    </tr>\n",
       "    <tr>\n",
       "      <th>1</th>\n",
       "      <td>756</td>\n",
       "      <td>569641.20</td>\n",
       "      <td>2021-04-01</td>\n",
       "      <td>0</td>\n",
       "    </tr>\n",
       "    <tr>\n",
       "      <th>2</th>\n",
       "      <td>756</td>\n",
       "      <td>446080.47</td>\n",
       "      <td>2021-04-01</td>\n",
       "      <td>0</td>\n",
       "    </tr>\n",
       "    <tr>\n",
       "      <th>3</th>\n",
       "      <td>756</td>\n",
       "      <td>498157.66</td>\n",
       "      <td>2021-04-01</td>\n",
       "      <td>0</td>\n",
       "    </tr>\n",
       "    <tr>\n",
       "      <th>4</th>\n",
       "      <td>756</td>\n",
       "      <td>521634.10</td>\n",
       "      <td>2021-04-01</td>\n",
       "      <td>0</td>\n",
       "    </tr>\n",
       "    <tr>\n",
       "      <th>...</th>\n",
       "      <td>...</td>\n",
       "      <td>...</td>\n",
       "      <td>...</td>\n",
       "      <td>...</td>\n",
       "    </tr>\n",
       "    <tr>\n",
       "      <th>2618</th>\n",
       "      <td>1815</td>\n",
       "      <td>0.00</td>\n",
       "      <td>2021-04-01</td>\n",
       "      <td>0</td>\n",
       "    </tr>\n",
       "    <tr>\n",
       "      <th>2619</th>\n",
       "      <td>1815</td>\n",
       "      <td>0.00</td>\n",
       "      <td>2021-04-01</td>\n",
       "      <td>0</td>\n",
       "    </tr>\n",
       "    <tr>\n",
       "      <th>2620</th>\n",
       "      <td>1815</td>\n",
       "      <td>0.00</td>\n",
       "      <td>2021-04-01</td>\n",
       "      <td>0</td>\n",
       "    </tr>\n",
       "    <tr>\n",
       "      <th>2621</th>\n",
       "      <td>1815</td>\n",
       "      <td>0.00</td>\n",
       "      <td>2021-04-01</td>\n",
       "      <td>0</td>\n",
       "    </tr>\n",
       "    <tr>\n",
       "      <th>2622</th>\n",
       "      <td>1815</td>\n",
       "      <td>0.00</td>\n",
       "      <td>2021-04-01</td>\n",
       "      <td>0</td>\n",
       "    </tr>\n",
       "  </tbody>\n",
       "</table>\n",
       "<p>915 rows × 4 columns</p>\n",
       "</div>"
      ],
      "text/plain": [
       "     Column Name  Transaction Value (Count or Avg) Snapshot Month (YYYYMM)  \\\n",
       "0            756                         428838.84              2021-04-01   \n",
       "1            756                         569641.20              2021-04-01   \n",
       "2            756                         446080.47              2021-04-01   \n",
       "3            756                         498157.66              2021-04-01   \n",
       "4            756                         521634.10              2021-04-01   \n",
       "...          ...                               ...                     ...   \n",
       "2618        1815                              0.00              2021-04-01   \n",
       "2619        1815                              0.00              2021-04-01   \n",
       "2620        1815                              0.00              2021-04-01   \n",
       "2621        1815                              0.00              2021-04-01   \n",
       "2622        1815                              0.00              2021-04-01   \n",
       "\n",
       "      IsAnAnomaly  \n",
       "0               0  \n",
       "1               0  \n",
       "2               0  \n",
       "3               0  \n",
       "4               0  \n",
       "...           ...  \n",
       "2618            0  \n",
       "2619            0  \n",
       "2620            0  \n",
       "2621            0  \n",
       "2622            0  \n",
       "\n",
       "[915 rows x 4 columns]"
      ]
     },
     "execution_count": 16,
     "metadata": {},
     "output_type": "execute_result"
    }
   ],
   "source": [
    "# Representing dependent variable values with binary\n",
    "l_df['IsAnAnomaly'] = l_df['IsAnAnomaly'].map({'YES':1,'NO':0})\n",
    "l_df"
   ]
  },
  {
   "cell_type": "code",
   "execution_count": 17,
   "id": "de48c3ee",
   "metadata": {
    "scrolled": false
   },
   "outputs": [
    {
     "data": {
      "text/plain": [
       "Column Name                         0\n",
       "Transaction Value (Count or Avg)    0\n",
       "Snapshot Month (YYYYMM)             0\n",
       "IsAnAnomaly                         0\n",
       "dtype: int64"
      ]
     },
     "execution_count": 17,
     "metadata": {},
     "output_type": "execute_result"
    }
   ],
   "source": [
    "l_df.isna().sum()"
   ]
  },
  {
   "cell_type": "markdown",
   "id": "447a04c4",
   "metadata": {},
   "source": [
    "- Dataset has no Nan values"
   ]
  },
  {
   "cell_type": "code",
   "execution_count": 18,
   "id": "b171b9d9",
   "metadata": {},
   "outputs": [
    {
     "data": {
      "text/plain": [
       "4903751.637969675"
      ]
     },
     "execution_count": 18,
     "metadata": {},
     "output_type": "execute_result"
    }
   ],
   "source": [
    "# Calculating average of the column Transaction Value (Count or Avg). So that we can replace zero values of the column with this mean value.\n",
    "values = []\n",
    "for i in df['Transaction Value (Count or Avg)']:\n",
    "    if i != 0:\n",
    "        values.append(i)\n",
    "        \n",
    "np.mean(values)"
   ]
  },
  {
   "cell_type": "code",
   "execution_count": 19,
   "id": "3d4de1dc",
   "metadata": {
    "scrolled": false
   },
   "outputs": [
    {
     "data": {
      "text/html": [
       "<div>\n",
       "<style scoped>\n",
       "    .dataframe tbody tr th:only-of-type {\n",
       "        vertical-align: middle;\n",
       "    }\n",
       "\n",
       "    .dataframe tbody tr th {\n",
       "        vertical-align: top;\n",
       "    }\n",
       "\n",
       "    .dataframe thead th {\n",
       "        text-align: right;\n",
       "    }\n",
       "</style>\n",
       "<table border=\"1\" class=\"dataframe\">\n",
       "  <thead>\n",
       "    <tr style=\"text-align: right;\">\n",
       "      <th></th>\n",
       "      <th>Column Name</th>\n",
       "      <th>Transaction Value (Count or Avg)</th>\n",
       "      <th>Snapshot Month (YYYYMM)</th>\n",
       "      <th>IsAnAnomaly</th>\n",
       "    </tr>\n",
       "  </thead>\n",
       "  <tbody>\n",
       "    <tr>\n",
       "      <th>0</th>\n",
       "      <td>756</td>\n",
       "      <td>428838.84</td>\n",
       "      <td>2021-04-01</td>\n",
       "      <td>0</td>\n",
       "    </tr>\n",
       "    <tr>\n",
       "      <th>1</th>\n",
       "      <td>756</td>\n",
       "      <td>569641.20</td>\n",
       "      <td>2021-04-01</td>\n",
       "      <td>0</td>\n",
       "    </tr>\n",
       "    <tr>\n",
       "      <th>2</th>\n",
       "      <td>756</td>\n",
       "      <td>446080.47</td>\n",
       "      <td>2021-04-01</td>\n",
       "      <td>0</td>\n",
       "    </tr>\n",
       "    <tr>\n",
       "      <th>3</th>\n",
       "      <td>756</td>\n",
       "      <td>498157.66</td>\n",
       "      <td>2021-04-01</td>\n",
       "      <td>0</td>\n",
       "    </tr>\n",
       "    <tr>\n",
       "      <th>4</th>\n",
       "      <td>756</td>\n",
       "      <td>521634.10</td>\n",
       "      <td>2021-04-01</td>\n",
       "      <td>0</td>\n",
       "    </tr>\n",
       "    <tr>\n",
       "      <th>...</th>\n",
       "      <td>...</td>\n",
       "      <td>...</td>\n",
       "      <td>...</td>\n",
       "      <td>...</td>\n",
       "    </tr>\n",
       "    <tr>\n",
       "      <th>2618</th>\n",
       "      <td>1815</td>\n",
       "      <td>4903751.63</td>\n",
       "      <td>2021-04-01</td>\n",
       "      <td>0</td>\n",
       "    </tr>\n",
       "    <tr>\n",
       "      <th>2619</th>\n",
       "      <td>1815</td>\n",
       "      <td>4903751.63</td>\n",
       "      <td>2021-04-01</td>\n",
       "      <td>0</td>\n",
       "    </tr>\n",
       "    <tr>\n",
       "      <th>2620</th>\n",
       "      <td>1815</td>\n",
       "      <td>4903751.63</td>\n",
       "      <td>2021-04-01</td>\n",
       "      <td>0</td>\n",
       "    </tr>\n",
       "    <tr>\n",
       "      <th>2621</th>\n",
       "      <td>1815</td>\n",
       "      <td>4903751.63</td>\n",
       "      <td>2021-04-01</td>\n",
       "      <td>0</td>\n",
       "    </tr>\n",
       "    <tr>\n",
       "      <th>2622</th>\n",
       "      <td>1815</td>\n",
       "      <td>4903751.63</td>\n",
       "      <td>2021-04-01</td>\n",
       "      <td>0</td>\n",
       "    </tr>\n",
       "  </tbody>\n",
       "</table>\n",
       "<p>915 rows × 4 columns</p>\n",
       "</div>"
      ],
      "text/plain": [
       "     Column Name  Transaction Value (Count or Avg) Snapshot Month (YYYYMM)  \\\n",
       "0            756                         428838.84              2021-04-01   \n",
       "1            756                         569641.20              2021-04-01   \n",
       "2            756                         446080.47              2021-04-01   \n",
       "3            756                         498157.66              2021-04-01   \n",
       "4            756                         521634.10              2021-04-01   \n",
       "...          ...                               ...                     ...   \n",
       "2618        1815                        4903751.63              2021-04-01   \n",
       "2619        1815                        4903751.63              2021-04-01   \n",
       "2620        1815                        4903751.63              2021-04-01   \n",
       "2621        1815                        4903751.63              2021-04-01   \n",
       "2622        1815                        4903751.63              2021-04-01   \n",
       "\n",
       "      IsAnAnomaly  \n",
       "0               0  \n",
       "1               0  \n",
       "2               0  \n",
       "3               0  \n",
       "4               0  \n",
       "...           ...  \n",
       "2618            0  \n",
       "2619            0  \n",
       "2620            0  \n",
       "2621            0  \n",
       "2622            0  \n",
       "\n",
       "[915 rows x 4 columns]"
      ]
     },
     "execution_count": 19,
     "metadata": {},
     "output_type": "execute_result"
    }
   ],
   "source": [
    "# Replacing 0.00 with the coulumn's mean value\n",
    "l_df['Transaction Value (Count or Avg)'].replace(0.00,4903751.63,inplace=True)\n",
    "l_df"
   ]
  },
  {
   "cell_type": "code",
   "execution_count": 20,
   "id": "967a97fd",
   "metadata": {
    "scrolled": true
   },
   "outputs": [
    {
     "data": {
      "text/plain": [
       "0    610\n",
       "1    305\n",
       "Name: IsAnAnomaly, dtype: int64"
      ]
     },
     "execution_count": 20,
     "metadata": {},
     "output_type": "execute_result"
    }
   ],
   "source": [
    "l_df['IsAnAnomaly'].value_counts()"
   ]
  },
  {
   "cell_type": "markdown",
   "id": "e3d9bade",
   "metadata": {},
   "source": [
    "- Imbalance in the classes of dependent variable"
   ]
  },
  {
   "cell_type": "code",
   "execution_count": 21,
   "id": "5e591968",
   "metadata": {},
   "outputs": [
    {
     "data": {
      "text/html": [
       "<div>\n",
       "<style scoped>\n",
       "    .dataframe tbody tr th:only-of-type {\n",
       "        vertical-align: middle;\n",
       "    }\n",
       "\n",
       "    .dataframe tbody tr th {\n",
       "        vertical-align: top;\n",
       "    }\n",
       "\n",
       "    .dataframe thead th {\n",
       "        text-align: right;\n",
       "    }\n",
       "</style>\n",
       "<table border=\"1\" class=\"dataframe\">\n",
       "  <thead>\n",
       "    <tr style=\"text-align: right;\">\n",
       "      <th></th>\n",
       "      <th>Column Name</th>\n",
       "      <th>Transaction Value (Count or Avg)</th>\n",
       "    </tr>\n",
       "  </thead>\n",
       "  <tbody>\n",
       "    <tr>\n",
       "      <th>0</th>\n",
       "      <td>756</td>\n",
       "      <td>428838.84</td>\n",
       "    </tr>\n",
       "    <tr>\n",
       "      <th>1</th>\n",
       "      <td>756</td>\n",
       "      <td>569641.20</td>\n",
       "    </tr>\n",
       "    <tr>\n",
       "      <th>2</th>\n",
       "      <td>756</td>\n",
       "      <td>446080.47</td>\n",
       "    </tr>\n",
       "    <tr>\n",
       "      <th>3</th>\n",
       "      <td>756</td>\n",
       "      <td>498157.66</td>\n",
       "    </tr>\n",
       "    <tr>\n",
       "      <th>4</th>\n",
       "      <td>756</td>\n",
       "      <td>521634.10</td>\n",
       "    </tr>\n",
       "    <tr>\n",
       "      <th>...</th>\n",
       "      <td>...</td>\n",
       "      <td>...</td>\n",
       "    </tr>\n",
       "    <tr>\n",
       "      <th>2618</th>\n",
       "      <td>1815</td>\n",
       "      <td>4903751.63</td>\n",
       "    </tr>\n",
       "    <tr>\n",
       "      <th>2619</th>\n",
       "      <td>1815</td>\n",
       "      <td>4903751.63</td>\n",
       "    </tr>\n",
       "    <tr>\n",
       "      <th>2620</th>\n",
       "      <td>1815</td>\n",
       "      <td>4903751.63</td>\n",
       "    </tr>\n",
       "    <tr>\n",
       "      <th>2621</th>\n",
       "      <td>1815</td>\n",
       "      <td>4903751.63</td>\n",
       "    </tr>\n",
       "    <tr>\n",
       "      <th>2622</th>\n",
       "      <td>1815</td>\n",
       "      <td>4903751.63</td>\n",
       "    </tr>\n",
       "  </tbody>\n",
       "</table>\n",
       "<p>915 rows × 2 columns</p>\n",
       "</div>"
      ],
      "text/plain": [
       "     Column Name  Transaction Value (Count or Avg)\n",
       "0            756                         428838.84\n",
       "1            756                         569641.20\n",
       "2            756                         446080.47\n",
       "3            756                         498157.66\n",
       "4            756                         521634.10\n",
       "...          ...                               ...\n",
       "2618        1815                        4903751.63\n",
       "2619        1815                        4903751.63\n",
       "2620        1815                        4903751.63\n",
       "2621        1815                        4903751.63\n",
       "2622        1815                        4903751.63\n",
       "\n",
       "[915 rows x 2 columns]"
      ]
     },
     "execution_count": 21,
     "metadata": {},
     "output_type": "execute_result"
    }
   ],
   "source": [
    "# Separaitng predictors\n",
    "x = l_df.drop(['IsAnAnomaly','Snapshot Month (YYYYMM)'],axis=1)\n",
    "x"
   ]
  },
  {
   "cell_type": "code",
   "execution_count": 22,
   "id": "d9083c4c",
   "metadata": {
    "scrolled": true
   },
   "outputs": [
    {
     "data": {
      "text/plain": [
       "array([[0.        , 0.0108215 ],\n",
       "       [0.        , 0.01437458],\n",
       "       [0.        , 0.01125658],\n",
       "       ...,\n",
       "       [1.        , 0.12374406],\n",
       "       [1.        , 0.12374406],\n",
       "       [1.        , 0.12374406]])"
      ]
     },
     "execution_count": 22,
     "metadata": {},
     "output_type": "execute_result"
    }
   ],
   "source": [
    "# scaling the data\n",
    "min_max_scaler = MinMaxScaler()\n",
    "x_scaled = min_max_scaler.fit_transform(x)\n",
    "x_scaled"
   ]
  },
  {
   "cell_type": "code",
   "execution_count": 23,
   "id": "1be40082",
   "metadata": {},
   "outputs": [],
   "source": [
    "# Separating dependent variable\n",
    "y = l_df['IsAnAnomaly']"
   ]
  },
  {
   "cell_type": "code",
   "execution_count": 24,
   "id": "05e66241",
   "metadata": {
    "scrolled": true
   },
   "outputs": [
    {
     "data": {
      "image/png": "[encoded data removed]",
      "text/plain": [
       "<Figure size 432x288 with 1 Axes>"
      ]
     },
     "metadata": {
      "needs_background": "light"
     },
     "output_type": "display_data"
    }
   ],
   "source": [
    "# visualizing the distribution of input vs output values\n",
    "plt.scatter(l_df['Transaction Value (Count or Avg)'],l_df['IsAnAnomaly'],marker='+',color='red')\n",
    "plt.xlabel('Transaction')\n",
    "plt.ylabel('IsAnAnomaly')\n",
    "plt.title('Transaction vs IsAnAnomaly')\n",
    "plt.show()"
   ]
  },
  {
   "cell_type": "code",
   "execution_count": 25,
   "id": "2f2329a9",
   "metadata": {},
   "outputs": [
    {
     "data": {
      "image/png": "[encoded data removed]",
      "text/plain": [
       "<Figure size 432x288 with 1 Axes>"
      ]
     },
     "metadata": {
      "needs_background": "light"
     },
     "output_type": "display_data"
    }
   ],
   "source": [
    "plt.scatter(l_df['Column Name'],l_df['IsAnAnomaly'],marker='+',color='blue')\n",
    "plt.xlabel('Column Name')\n",
    "plt.ylabel('IsAnAnomaly')\n",
    "plt.title('Column Name vs IsAnAnomaly')\n",
    "plt.show()"
   ]
  },
  {
   "cell_type": "code",
   "execution_count": 26,
   "id": "9b2efded",
   "metadata": {
    "scrolled": true
   },
   "outputs": [],
   "source": [
    "#Importing Scikit learn to split data into train and test\n",
    "from sklearn.model_selection import train_test_split"
   ]
  },
  {
   "cell_type": "code",
   "execution_count": 27,
   "id": "eb96bbb9",
   "metadata": {},
   "outputs": [],
   "source": [
    "X_train, X_test, y_train, y_test = train_test_split(x_scaled,y,train_size=0.63,shuffle=True,stratify=y,random_state=3)"
   ]
  },
  {
   "cell_type": "code",
   "execution_count": 28,
   "id": "e82ffb3b",
   "metadata": {
    "scrolled": true
   },
   "outputs": [
    {
     "data": {
      "text/plain": [
       "0    384\n",
       "1    192\n",
       "Name: IsAnAnomaly, dtype: int64"
      ]
     },
     "execution_count": 28,
     "metadata": {},
     "output_type": "execute_result"
    }
   ],
   "source": [
    "y_train.value_counts()"
   ]
  },
  {
   "cell_type": "code",
   "execution_count": 29,
   "id": "ef9f472d",
   "metadata": {},
   "outputs": [
    {
     "data": {
      "text/plain": [
       "0    226\n",
       "1    113\n",
       "Name: IsAnAnomaly, dtype: int64"
      ]
     },
     "execution_count": 29,
     "metadata": {},
     "output_type": "execute_result"
    }
   ],
   "source": [
    "y_test.value_counts()"
   ]
  },
  {
   "cell_type": "markdown",
   "id": "5daef560",
   "metadata": {},
   "source": [
    "- After applying stratification train and test data is having equal proportion of classes in it. Data is still imbalanced."
   ]
  },
  {
   "cell_type": "markdown",
   "id": "ac1f7879",
   "metadata": {},
   "source": [
    "Now, let's try different ML models and finalize a model which gives us the reliable results"
   ]
  },
  {
   "cell_type": "markdown",
   "id": "575e4111",
   "metadata": {},
   "source": [
    "#### Logistic Regression"
   ]
  },
  {
   "cell_type": "code",
   "execution_count": 30,
   "id": "5b063efd",
   "metadata": {},
   "outputs": [],
   "source": [
    "from sklearn.linear_model import LogisticRegression\n",
    "model = LogisticRegression()"
   ]
  },
  {
   "cell_type": "code",
   "execution_count": 31,
   "id": "721affa1",
   "metadata": {
    "scrolled": false
   },
   "outputs": [
    {
     "data": {
      "text/plain": [
       "LogisticRegression()"
      ]
     },
     "execution_count": 31,
     "metadata": {},
     "output_type": "execute_result"
    }
   ],
   "source": [
    "#Fitting the model to the train data\n",
    "model.fit(X_train, y_train)"
   ]
  },
  {
   "cell_type": "code",
   "execution_count": 32,
   "id": "64b71210",
   "metadata": {},
   "outputs": [
    {
     "name": "stdout",
     "output_type": "stream",
     "text": [
      "Test accuracy: 0.7964601769911505\n",
      "Train accuracy: 0.8020833333333334\n"
     ]
    }
   ],
   "source": [
    "# Checking model's scores\n",
    "model.score(X_test,y_test), model.score(X_train,y_train)\n",
    "print(f'Test accuracy: {model.score(X_test,y_test)}')\n",
    "print(f'Train accuracy: {model.score(X_train,y_train)}')"
   ]
  },
  {
   "cell_type": "code",
   "execution_count": 33,
   "id": "34565b8a",
   "metadata": {},
   "outputs": [],
   "source": [
    "# Predicting y values for test data \n",
    "y_predicted = model.predict(X_test)"
   ]
  },
  {
   "cell_type": "code",
   "execution_count": 34,
   "id": "51fe9148",
   "metadata": {},
   "outputs": [
    {
     "name": "stdout",
     "output_type": "stream",
     "text": [
      "[[203  23]\n",
      " [ 46  67]]\n"
     ]
    }
   ],
   "source": [
    "cm_log = confusion_matrix(y_test, y_predicted)\n",
    "print(cm_log)"
   ]
  },
  {
   "cell_type": "code",
   "execution_count": 35,
   "id": "fd0e799e",
   "metadata": {
    "scrolled": true
   },
   "outputs": [
    {
     "data": {
      "text/plain": [
       "array([[ 3.19829103, -2.06145921]])"
      ]
     },
     "execution_count": 35,
     "metadata": {},
     "output_type": "execute_result"
    }
   ],
   "source": [
    "#checking model coefficients\n",
    "model.coef_"
   ]
  },
  {
   "cell_type": "code",
   "execution_count": 36,
   "id": "4950c26b",
   "metadata": {},
   "outputs": [
    {
     "data": {
      "text/plain": [
       "array([-2.39765379])"
      ]
     },
     "execution_count": 36,
     "metadata": {},
     "output_type": "execute_result"
    }
   ],
   "source": [
    "#checking model intercept_\n",
    "model.intercept_"
   ]
  },
  {
   "cell_type": "code",
   "execution_count": 37,
   "id": "0bd1ea73",
   "metadata": {},
   "outputs": [],
   "source": [
    "y_predicted = model.predict(X_test)"
   ]
  },
  {
   "cell_type": "code",
   "execution_count": 38,
   "id": "62ecca55",
   "metadata": {},
   "outputs": [],
   "source": [
    "#check probability values for test data\n",
    "#model.predict_proba(X_test)"
   ]
  },
  {
   "cell_type": "code",
   "execution_count": 39,
   "id": "7c8b94ff",
   "metadata": {},
   "outputs": [
    {
     "name": "stdout",
     "output_type": "stream",
     "text": [
      "[[203  23]\n",
      " [ 46  67]]\n"
     ]
    }
   ],
   "source": [
    "# Confusion matrix\n",
    "cm_log = confusion_matrix(y_test, y_predicted)\n",
    "print(cm_log)"
   ]
  },
  {
   "cell_type": "code",
   "execution_count": 40,
   "id": "15b3c651",
   "metadata": {},
   "outputs": [
    {
     "data": {
      "text/plain": [
       "Text(69.0, 0.5, 'Truth')"
      ]
     },
     "execution_count": 40,
     "metadata": {},
     "output_type": "execute_result"
    },
    {
     "data": {
      "image/png": "[encoded data removed]",
      "text/plain": [
       "<Figure size 720x504 with 2 Axes>"
      ]
     },
     "metadata": {
      "needs_background": "light"
     },
     "output_type": "display_data"
    }
   ],
   "source": [
    "import seaborn as sn\n",
    "plt.figure(figsize = (10,7))\n",
    "sn.heatmap(cm_log, annot=True)\n",
    "plt.xlabel('Predicted')\n",
    "plt.ylabel('Truth')"
   ]
  },
  {
   "cell_type": "code",
   "execution_count": 41,
   "id": "cc0f4ba2",
   "metadata": {
    "scrolled": false
   },
   "outputs": [
    {
     "name": "stdout",
     "output_type": "stream",
     "text": [
      "              precision    recall  f1-score   support\n",
      "\n",
      "           0       0.82      0.90      0.85       226\n",
      "           1       0.74      0.59      0.66       113\n",
      "\n",
      "    accuracy                           0.80       339\n",
      "   macro avg       0.78      0.75      0.76       339\n",
      "weighted avg       0.79      0.80      0.79       339\n",
      "\n"
     ]
    }
   ],
   "source": [
    "#Checking precission, recall and F1 score to understand the model performance\n",
    "print(classification_report(y_test,y_predicted))"
   ]
  },
  {
   "cell_type": "markdown",
   "id": "bdebfa2f",
   "metadata": {},
   "source": [
    "- Eventhough the accuracy is good, model not performing well in classifying class-1. "
   ]
  },
  {
   "cell_type": "markdown",
   "id": "ef662c5a",
   "metadata": {},
   "source": [
    "#### Model Support Vector Machines (SVM)"
   ]
  },
  {
   "cell_type": "markdown",
   "id": "422bd6ef",
   "metadata": {},
   "source": [
    "Using SVM's linear kernal"
   ]
  },
  {
   "cell_type": "code",
   "execution_count": 42,
   "id": "b8d9161c",
   "metadata": {},
   "outputs": [
    {
     "data": {
      "text/plain": [
       "SVC(kernel='linear')"
      ]
     },
     "execution_count": 42,
     "metadata": {},
     "output_type": "execute_result"
    }
   ],
   "source": [
    "#Importing svm and fitting it to the data\n",
    "from sklearn.svm import SVC\n",
    "model_linear = SVC(kernel = \"linear\")\n",
    "model_linear.fit(X_train,y_train)"
   ]
  },
  {
   "cell_type": "code",
   "execution_count": 43,
   "id": "b8ac8188",
   "metadata": {},
   "outputs": [
    {
     "name": "stdout",
     "output_type": "stream",
     "text": [
      "Train accuracy: 0.7430555555555556\n"
     ]
    }
   ],
   "source": [
    "#checking model score on train data\n",
    "model_linear.score(X_train, y_train)\n",
    "print(f'Train accuracy: {model_linear.score(X_train, y_train)}')"
   ]
  },
  {
   "cell_type": "code",
   "execution_count": 44,
   "id": "6ac4a3da",
   "metadata": {
    "scrolled": true
   },
   "outputs": [
    {
     "name": "stdout",
     "output_type": "stream",
     "text": [
      "Test accuracy: 0.6991150442477876\n"
     ]
    }
   ],
   "source": [
    "model_linear.score(X_test, y_test)\n",
    "print(f'Test accuracy: {model_linear.score(X_test, y_test)}')"
   ]
  },
  {
   "cell_type": "code",
   "execution_count": 45,
   "id": "8e890468",
   "metadata": {},
   "outputs": [],
   "source": [
    "# Predicting y values of test data\n",
    "y_predSVL = model_linear.predict(X_test)"
   ]
  },
  {
   "cell_type": "code",
   "execution_count": 46,
   "id": "4a7885f6",
   "metadata": {},
   "outputs": [
    {
     "name": "stdout",
     "output_type": "stream",
     "text": [
      "[[152  74]\n",
      " [ 28  85]]\n"
     ]
    }
   ],
   "source": [
    "# Confusion matrix\n",
    "cm_svm = confusion_matrix(y_test, y_predSVL)\n",
    "print(cm_svm)"
   ]
  },
  {
   "cell_type": "code",
   "execution_count": 47,
   "id": "3bd2bb6f",
   "metadata": {
    "scrolled": true
   },
   "outputs": [
    {
     "name": "stdout",
     "output_type": "stream",
     "text": [
      "              precision    recall  f1-score   support\n",
      "\n",
      "           0       0.84      0.67      0.75       226\n",
      "           1       0.53      0.75      0.62       113\n",
      "\n",
      "    accuracy                           0.70       339\n",
      "   macro avg       0.69      0.71      0.69       339\n",
      "weighted avg       0.74      0.70      0.71       339\n",
      "\n"
     ]
    }
   ],
   "source": [
    "#Checking precission, recall and F1 score to understand the model performance\n",
    "print(classification_report(y_test,y_predSVL))"
   ]
  },
  {
   "cell_type": "markdown",
   "id": "ed60855c",
   "metadata": {},
   "source": [
    "- Using SVM's linear kernal is model is not giving desired result"
   ]
  },
  {
   "cell_type": "markdown",
   "id": "a788a8c3",
   "metadata": {},
   "source": [
    "Using RBF Kernal"
   ]
  },
  {
   "cell_type": "code",
   "execution_count": 48,
   "id": "ab2f482f",
   "metadata": {},
   "outputs": [
    {
     "data": {
      "text/plain": [
       "SVC()"
      ]
     },
     "execution_count": 48,
     "metadata": {},
     "output_type": "execute_result"
    }
   ],
   "source": [
    "from sklearn.svm import SVC\n",
    "model_rbf = SVC(kernel = \"rbf\")\n",
    "model_rbf.fit(X_train,y_train)"
   ]
  },
  {
   "cell_type": "code",
   "execution_count": 49,
   "id": "b8f77bee",
   "metadata": {},
   "outputs": [
    {
     "name": "stdout",
     "output_type": "stream",
     "text": [
      "Train accuracy: 0.8003472222222222\n",
      "Test accuracy: 0.7964601769911505\n"
     ]
    }
   ],
   "source": [
    "model_rbf.score(X_train, y_train), model_linear.score(X_test, y_test)\n",
    "print(f'Train accuracy: {model_rbf.score(X_train, y_train)}')\n",
    "print(f'Test accuracy: {model_rbf.score(X_test, y_test)}')\n"
   ]
  },
  {
   "cell_type": "code",
   "execution_count": 50,
   "id": "c1ab9611",
   "metadata": {},
   "outputs": [],
   "source": [
    "# Predicting y values for test data\n",
    "y_predRBF = model_rbf.predict(X_test)"
   ]
  },
  {
   "cell_type": "code",
   "execution_count": 51,
   "id": "34d46093",
   "metadata": {},
   "outputs": [
    {
     "name": "stdout",
     "output_type": "stream",
     "text": [
      "[[152  74]\n",
      " [ 28  85]]\n"
     ]
    }
   ],
   "source": [
    "cm_rbf = confusion_matrix(y_test, y_predRBF)\n",
    "print(cm_svm)"
   ]
  },
  {
   "cell_type": "code",
   "execution_count": 52,
   "id": "4ff5a8f2",
   "metadata": {
    "scrolled": true
   },
   "outputs": [
    {
     "name": "stdout",
     "output_type": "stream",
     "text": [
      "              precision    recall  f1-score   support\n",
      "\n",
      "           0       0.82      0.90      0.85       226\n",
      "           1       0.74      0.59      0.66       113\n",
      "\n",
      "    accuracy                           0.80       339\n",
      "   macro avg       0.78      0.75      0.76       339\n",
      "weighted avg       0.79      0.80      0.79       339\n",
      "\n"
     ]
    }
   ],
   "source": [
    "print(classification_report(y_test,y_predRBF))"
   ]
  },
  {
   "cell_type": "markdown",
   "id": "5e3d4f76",
   "metadata": {},
   "source": [
    "- Even though accuracy is good compared to linear kernel, precission, recall and f1 for each class is not desirable. This is due to imbalance data."
   ]
  },
  {
   "cell_type": "markdown",
   "id": "ddd1d2c9",
   "metadata": {},
   "source": [
    "#### Model XGBoost"
   ]
  },
  {
   "cell_type": "code",
   "execution_count": 53,
   "id": "d0b3d4a4",
   "metadata": {},
   "outputs": [],
   "source": [
    "# Importing XGboost\n",
    "import xgboost as xgb\n",
    "\n",
    "xgb_cl = xgb.XGBClassifier()"
   ]
  },
  {
   "cell_type": "code",
   "execution_count": 54,
   "id": "37f56f01",
   "metadata": {
    "scrolled": false
   },
   "outputs": [
    {
     "name": "stdout",
     "output_type": "stream",
     "text": [
      "[20:48:13] WARNING: C:/Users/Administrator/workspace/xgboost-win64_release_1.4.0/src/learner.cc:1095: Starting in XGBoost 1.3.0, the default evaluation metric used with the objective 'binary:logistic' was changed from 'error' to 'logloss'. Explicitly set eval_metric if you'd like to restore the old behavior.\n"
     ]
    },
    {
     "data": {
      "text/plain": [
       "XGBClassifier(base_score=0.5, booster='gbtree', colsample_bylevel=1,\n",
       "              colsample_bynode=1, colsample_bytree=1, gamma=0, gpu_id=-1,\n",
       "              importance_type='gain', interaction_constraints='',\n",
       "              learning_rate=0.300000012, max_delta_step=0, max_depth=6,\n",
       "              min_child_weight=1, missing=nan, monotone_constraints='()',\n",
       "              n_estimators=100, n_jobs=12, num_parallel_tree=1, random_state=0,\n",
       "              reg_alpha=0, reg_lambda=1, scale_pos_weight=1, subsample=1,\n",
       "              tree_method='exact', validate_parameters=1, verbosity=None)"
      ]
     },
     "execution_count": 54,
     "metadata": {},
     "output_type": "execute_result"
    }
   ],
   "source": [
    "# fitting the xgboost classifier to the training data\n",
    "xgb_cl.fit(X_train, y_train)"
   ]
  },
  {
   "cell_type": "code",
   "execution_count": 55,
   "id": "5d959694",
   "metadata": {
    "scrolled": true
   },
   "outputs": [
    {
     "name": "stdout",
     "output_type": "stream",
     "text": [
      "Train accuracy: 1.0\n",
      "Test accuracy: 1.0\n"
     ]
    }
   ],
   "source": [
    "xgb_cl.score(X_train, y_train), xgb_cl.score(X_test, y_test)\n",
    "print(f'Train accuracy: {xgb_cl.score(X_train, y_train)}')\n",
    "print(f'Test accuracy: {xgb_cl.score(X_test, y_test)}')"
   ]
  },
  {
   "cell_type": "markdown",
   "id": "70d2ce6d",
   "metadata": {},
   "source": [
    "- Model is overfitting"
   ]
  },
  {
   "cell_type": "code",
   "execution_count": 56,
   "id": "69c68378",
   "metadata": {},
   "outputs": [],
   "source": [
    "# Predicting y values of test data\n",
    "preds = xgb_cl.predict(X_test)"
   ]
  },
  {
   "cell_type": "code",
   "execution_count": 57,
   "id": "e3b698b4",
   "metadata": {},
   "outputs": [
    {
     "data": {
      "text/plain": [
       "1.0"
      ]
     },
     "execution_count": 57,
     "metadata": {},
     "output_type": "execute_result"
    }
   ],
   "source": [
    "# Score\n",
    "from sklearn.metrics import accuracy_score\n",
    "accuracy_score(y_test, preds)"
   ]
  },
  {
   "cell_type": "code",
   "execution_count": 58,
   "id": "8a504118",
   "metadata": {
    "scrolled": true
   },
   "outputs": [
    {
     "name": "stdout",
     "output_type": "stream",
     "text": [
      "[[226   0]\n",
      " [  0 113]]\n"
     ]
    }
   ],
   "source": [
    "cm_xg = confusion_matrix(y_test, preds)\n",
    "print(cm_xg)"
   ]
  },
  {
   "cell_type": "markdown",
   "id": "e4320da8",
   "metadata": {},
   "source": [
    "##### Calculating precission and recall"
   ]
  },
  {
   "cell_type": "code",
   "execution_count": 59,
   "id": "55d162dd",
   "metadata": {
    "scrolled": true
   },
   "outputs": [
    {
     "name": "stdout",
     "output_type": "stream",
     "text": [
      "              precision    recall  f1-score   support\n",
      "\n",
      "           0       1.00      1.00      1.00       226\n",
      "           1       1.00      1.00      1.00       113\n",
      "\n",
      "    accuracy                           1.00       339\n",
      "   macro avg       1.00      1.00      1.00       339\n",
      "weighted avg       1.00      1.00      1.00       339\n",
      "\n"
     ]
    }
   ],
   "source": [
    "print(classification_report(y_test,preds))"
   ]
  },
  {
   "cell_type": "markdown",
   "id": "43ee463f",
   "metadata": {},
   "source": [
    "##### Finalized model:\n",
    "- Among Logistic regression , SVM with linear, Rbf kernal and Xgboost, Xgboost is performing well.\n",
    "- Even though the model is overfitting, that we could expect with such a small dataset. \n",
    "- So we can finalize our model Xgboost. we can still treat overfitting using regulerization techniques."
   ]
  },
  {
   "cell_type": "markdown",
   "id": "5a8bd9be",
   "metadata": {},
   "source": [
    "Now we have to use this model to predict the labels of unlabelled data"
   ]
  },
  {
   "cell_type": "markdown",
   "id": "c06fdb82",
   "metadata": {},
   "source": [
    "#### Predict labels for unlabeled data"
   ]
  },
  {
   "cell_type": "code",
   "execution_count": 60,
   "id": "25af325c",
   "metadata": {},
   "outputs": [
    {
     "data": {
      "text/html": [
       "<div>\n",
       "<style scoped>\n",
       "    .dataframe tbody tr th:only-of-type {\n",
       "        vertical-align: middle;\n",
       "    }\n",
       "\n",
       "    .dataframe tbody tr th {\n",
       "        vertical-align: top;\n",
       "    }\n",
       "\n",
       "    .dataframe thead th {\n",
       "        text-align: right;\n",
       "    }\n",
       "</style>\n",
       "<table border=\"1\" class=\"dataframe\">\n",
       "  <thead>\n",
       "    <tr style=\"text-align: right;\">\n",
       "      <th></th>\n",
       "      <th>Model Name</th>\n",
       "      <th>Column Name</th>\n",
       "      <th>Transaction Value (Count or Avg)</th>\n",
       "      <th>Transcation Month (YYYY|MM)</th>\n",
       "      <th>IsAnAnomaly</th>\n",
       "      <th>Snapshot Month (YYYYMM)</th>\n",
       "    </tr>\n",
       "  </thead>\n",
       "  <tbody>\n",
       "    <tr>\n",
       "      <th>61</th>\n",
       "      <td>TABLE_1</td>\n",
       "      <td>756</td>\n",
       "      <td>528349.70</td>\n",
       "      <td>2016-01-01</td>\n",
       "      <td>unknown</td>\n",
       "      <td>2021-03-01</td>\n",
       "    </tr>\n",
       "    <tr>\n",
       "      <th>62</th>\n",
       "      <td>TABLE_1</td>\n",
       "      <td>756</td>\n",
       "      <td>428838.84</td>\n",
       "      <td>2016-02-01</td>\n",
       "      <td>unknown</td>\n",
       "      <td>2021-03-01</td>\n",
       "    </tr>\n",
       "    <tr>\n",
       "      <th>63</th>\n",
       "      <td>TABLE_1</td>\n",
       "      <td>756</td>\n",
       "      <td>569641.20</td>\n",
       "      <td>2016-03-01</td>\n",
       "      <td>unknown</td>\n",
       "      <td>2021-03-01</td>\n",
       "    </tr>\n",
       "    <tr>\n",
       "      <th>64</th>\n",
       "      <td>TABLE_1</td>\n",
       "      <td>756</td>\n",
       "      <td>446080.47</td>\n",
       "      <td>2016-04-01</td>\n",
       "      <td>unknown</td>\n",
       "      <td>2021-03-01</td>\n",
       "    </tr>\n",
       "    <tr>\n",
       "      <th>65</th>\n",
       "      <td>TABLE_1</td>\n",
       "      <td>756</td>\n",
       "      <td>498157.66</td>\n",
       "      <td>2016-05-01</td>\n",
       "      <td>unknown</td>\n",
       "      <td>2021-03-01</td>\n",
       "    </tr>\n",
       "    <tr>\n",
       "      <th>...</th>\n",
       "      <td>...</td>\n",
       "      <td>...</td>\n",
       "      <td>...</td>\n",
       "      <td>...</td>\n",
       "      <td>...</td>\n",
       "      <td>...</td>\n",
       "    </tr>\n",
       "    <tr>\n",
       "      <th>2740</th>\n",
       "      <td>TABLE_1</td>\n",
       "      <td>1815</td>\n",
       "      <td>0.00</td>\n",
       "      <td>2020-08-01</td>\n",
       "      <td>unknown</td>\n",
       "      <td>2021-02-01</td>\n",
       "    </tr>\n",
       "    <tr>\n",
       "      <th>2741</th>\n",
       "      <td>TABLE_1</td>\n",
       "      <td>1815</td>\n",
       "      <td>0.00</td>\n",
       "      <td>2020-09-01</td>\n",
       "      <td>unknown</td>\n",
       "      <td>2021-02-01</td>\n",
       "    </tr>\n",
       "    <tr>\n",
       "      <th>2742</th>\n",
       "      <td>TABLE_1</td>\n",
       "      <td>1815</td>\n",
       "      <td>0.00</td>\n",
       "      <td>2020-10-01</td>\n",
       "      <td>unknown</td>\n",
       "      <td>2021-02-01</td>\n",
       "    </tr>\n",
       "    <tr>\n",
       "      <th>2743</th>\n",
       "      <td>TABLE_1</td>\n",
       "      <td>1815</td>\n",
       "      <td>0.00</td>\n",
       "      <td>2020-11-01</td>\n",
       "      <td>unknown</td>\n",
       "      <td>2021-02-01</td>\n",
       "    </tr>\n",
       "    <tr>\n",
       "      <th>2744</th>\n",
       "      <td>TABLE_1</td>\n",
       "      <td>1815</td>\n",
       "      <td>0.00</td>\n",
       "      <td>2020-12-01</td>\n",
       "      <td>unknown</td>\n",
       "      <td>2021-02-01</td>\n",
       "    </tr>\n",
       "  </tbody>\n",
       "</table>\n",
       "<p>1830 rows × 6 columns</p>\n",
       "</div>"
      ],
      "text/plain": [
       "     Model Name Column Name  Transaction Value (Count or Avg)  \\\n",
       "61      TABLE_1         756                         528349.70   \n",
       "62      TABLE_1         756                         428838.84   \n",
       "63      TABLE_1         756                         569641.20   \n",
       "64      TABLE_1         756                         446080.47   \n",
       "65      TABLE_1         756                         498157.66   \n",
       "...         ...         ...                               ...   \n",
       "2740    TABLE_1        1815                              0.00   \n",
       "2741    TABLE_1        1815                              0.00   \n",
       "2742    TABLE_1        1815                              0.00   \n",
       "2743    TABLE_1        1815                              0.00   \n",
       "2744    TABLE_1        1815                              0.00   \n",
       "\n",
       "     Transcation Month (YYYY|MM) IsAnAnomaly Snapshot Month (YYYYMM)  \n",
       "61                    2016-01-01     unknown              2021-03-01  \n",
       "62                    2016-02-01     unknown              2021-03-01  \n",
       "63                    2016-03-01     unknown              2021-03-01  \n",
       "64                    2016-04-01     unknown              2021-03-01  \n",
       "65                    2016-05-01     unknown              2021-03-01  \n",
       "...                          ...         ...                     ...  \n",
       "2740                  2020-08-01     unknown              2021-02-01  \n",
       "2741                  2020-09-01     unknown              2021-02-01  \n",
       "2742                  2020-10-01     unknown              2021-02-01  \n",
       "2743                  2020-11-01     unknown              2021-02-01  \n",
       "2744                  2020-12-01     unknown              2021-02-01  \n",
       "\n",
       "[1830 rows x 6 columns]"
      ]
     },
     "execution_count": 60,
     "metadata": {},
     "output_type": "execute_result"
    }
   ],
   "source": [
    "#unlabelled dataset\n",
    "unlabeled_df.head()\n",
    "unlabeled_df"
   ]
  },
  {
   "cell_type": "code",
   "execution_count": 61,
   "id": "7043f012",
   "metadata": {},
   "outputs": [],
   "source": [
    "# considering required columns\n",
    "columns = ['Column Name','Transaction Value (Count or Avg)'] "
   ]
  },
  {
   "cell_type": "code",
   "execution_count": 62,
   "id": "bb8e7040",
   "metadata": {},
   "outputs": [
    {
     "data": {
      "text/html": [
       "<div>\n",
       "<style scoped>\n",
       "    .dataframe tbody tr th:only-of-type {\n",
       "        vertical-align: middle;\n",
       "    }\n",
       "\n",
       "    .dataframe tbody tr th {\n",
       "        vertical-align: top;\n",
       "    }\n",
       "\n",
       "    .dataframe thead th {\n",
       "        text-align: right;\n",
       "    }\n",
       "</style>\n",
       "<table border=\"1\" class=\"dataframe\">\n",
       "  <thead>\n",
       "    <tr style=\"text-align: right;\">\n",
       "      <th></th>\n",
       "      <th>Column Name</th>\n",
       "      <th>Transaction Value (Count or Avg)</th>\n",
       "    </tr>\n",
       "  </thead>\n",
       "  <tbody>\n",
       "    <tr>\n",
       "      <th>61</th>\n",
       "      <td>756</td>\n",
       "      <td>528349.70</td>\n",
       "    </tr>\n",
       "    <tr>\n",
       "      <th>62</th>\n",
       "      <td>756</td>\n",
       "      <td>428838.84</td>\n",
       "    </tr>\n",
       "    <tr>\n",
       "      <th>63</th>\n",
       "      <td>756</td>\n",
       "      <td>569641.20</td>\n",
       "    </tr>\n",
       "    <tr>\n",
       "      <th>64</th>\n",
       "      <td>756</td>\n",
       "      <td>446080.47</td>\n",
       "    </tr>\n",
       "    <tr>\n",
       "      <th>65</th>\n",
       "      <td>756</td>\n",
       "      <td>498157.66</td>\n",
       "    </tr>\n",
       "    <tr>\n",
       "      <th>...</th>\n",
       "      <td>...</td>\n",
       "      <td>...</td>\n",
       "    </tr>\n",
       "    <tr>\n",
       "      <th>2740</th>\n",
       "      <td>1815</td>\n",
       "      <td>0.00</td>\n",
       "    </tr>\n",
       "    <tr>\n",
       "      <th>2741</th>\n",
       "      <td>1815</td>\n",
       "      <td>0.00</td>\n",
       "    </tr>\n",
       "    <tr>\n",
       "      <th>2742</th>\n",
       "      <td>1815</td>\n",
       "      <td>0.00</td>\n",
       "    </tr>\n",
       "    <tr>\n",
       "      <th>2743</th>\n",
       "      <td>1815</td>\n",
       "      <td>0.00</td>\n",
       "    </tr>\n",
       "    <tr>\n",
       "      <th>2744</th>\n",
       "      <td>1815</td>\n",
       "      <td>0.00</td>\n",
       "    </tr>\n",
       "  </tbody>\n",
       "</table>\n",
       "<p>1830 rows × 2 columns</p>\n",
       "</div>"
      ],
      "text/plain": [
       "     Column Name  Transaction Value (Count or Avg)\n",
       "61           756                         528349.70\n",
       "62           756                         428838.84\n",
       "63           756                         569641.20\n",
       "64           756                         446080.47\n",
       "65           756                         498157.66\n",
       "...          ...                               ...\n",
       "2740        1815                              0.00\n",
       "2741        1815                              0.00\n",
       "2742        1815                              0.00\n",
       "2743        1815                              0.00\n",
       "2744        1815                              0.00\n",
       "\n",
       "[1830 rows x 2 columns]"
      ]
     },
     "execution_count": 62,
     "metadata": {},
     "output_type": "execute_result"
    }
   ],
   "source": [
    "# redefining the dataframe\n",
    "Nl_df = unlabeled_df.reindex(columns = columns)\n",
    "Nl_df"
   ]
  },
  {
   "cell_type": "code",
   "execution_count": 63,
   "id": "0ca7689d",
   "metadata": {
    "scrolled": true
   },
   "outputs": [
    {
     "data": {
      "text/plain": [
       "Column Name                         0\n",
       "Transaction Value (Count or Avg)    0\n",
       "dtype: int64"
      ]
     },
     "execution_count": 63,
     "metadata": {},
     "output_type": "execute_result"
    }
   ],
   "source": [
    "#checking NaN values\n",
    "Nl_df.isna().sum()"
   ]
  },
  {
   "cell_type": "markdown",
   "id": "f7a6351b",
   "metadata": {},
   "source": [
    "- No Nan values"
   ]
  },
  {
   "cell_type": "code",
   "execution_count": 64,
   "id": "60fb0493",
   "metadata": {},
   "outputs": [
    {
     "data": {
      "text/html": [
       "<div>\n",
       "<style scoped>\n",
       "    .dataframe tbody tr th:only-of-type {\n",
       "        vertical-align: middle;\n",
       "    }\n",
       "\n",
       "    .dataframe tbody tr th {\n",
       "        vertical-align: top;\n",
       "    }\n",
       "\n",
       "    .dataframe thead th {\n",
       "        text-align: right;\n",
       "    }\n",
       "</style>\n",
       "<table border=\"1\" class=\"dataframe\">\n",
       "  <thead>\n",
       "    <tr style=\"text-align: right;\">\n",
       "      <th></th>\n",
       "      <th>Column Name</th>\n",
       "      <th>Transaction Value (Count or Avg)</th>\n",
       "    </tr>\n",
       "  </thead>\n",
       "  <tbody>\n",
       "    <tr>\n",
       "      <th>61</th>\n",
       "      <td>756</td>\n",
       "      <td>528349.70</td>\n",
       "    </tr>\n",
       "    <tr>\n",
       "      <th>62</th>\n",
       "      <td>756</td>\n",
       "      <td>428838.84</td>\n",
       "    </tr>\n",
       "    <tr>\n",
       "      <th>63</th>\n",
       "      <td>756</td>\n",
       "      <td>569641.20</td>\n",
       "    </tr>\n",
       "    <tr>\n",
       "      <th>64</th>\n",
       "      <td>756</td>\n",
       "      <td>446080.47</td>\n",
       "    </tr>\n",
       "    <tr>\n",
       "      <th>65</th>\n",
       "      <td>756</td>\n",
       "      <td>498157.66</td>\n",
       "    </tr>\n",
       "    <tr>\n",
       "      <th>...</th>\n",
       "      <td>...</td>\n",
       "      <td>...</td>\n",
       "    </tr>\n",
       "    <tr>\n",
       "      <th>2740</th>\n",
       "      <td>1815</td>\n",
       "      <td>4903751.63</td>\n",
       "    </tr>\n",
       "    <tr>\n",
       "      <th>2741</th>\n",
       "      <td>1815</td>\n",
       "      <td>4903751.63</td>\n",
       "    </tr>\n",
       "    <tr>\n",
       "      <th>2742</th>\n",
       "      <td>1815</td>\n",
       "      <td>4903751.63</td>\n",
       "    </tr>\n",
       "    <tr>\n",
       "      <th>2743</th>\n",
       "      <td>1815</td>\n",
       "      <td>4903751.63</td>\n",
       "    </tr>\n",
       "    <tr>\n",
       "      <th>2744</th>\n",
       "      <td>1815</td>\n",
       "      <td>4903751.63</td>\n",
       "    </tr>\n",
       "  </tbody>\n",
       "</table>\n",
       "<p>1830 rows × 2 columns</p>\n",
       "</div>"
      ],
      "text/plain": [
       "     Column Name  Transaction Value (Count or Avg)\n",
       "61           756                         528349.70\n",
       "62           756                         428838.84\n",
       "63           756                         569641.20\n",
       "64           756                         446080.47\n",
       "65           756                         498157.66\n",
       "...          ...                               ...\n",
       "2740        1815                        4903751.63\n",
       "2741        1815                        4903751.63\n",
       "2742        1815                        4903751.63\n",
       "2743        1815                        4903751.63\n",
       "2744        1815                        4903751.63\n",
       "\n",
       "[1830 rows x 2 columns]"
      ]
     },
     "execution_count": 64,
     "metadata": {},
     "output_type": "execute_result"
    }
   ],
   "source": [
    "# Calculated average of column 'Transaction Value (Count or Avg)' over the actual dataset\n",
    "Nl_df['Transaction Value (Count or Avg)'].replace(0.00,4903751.63,inplace=True)\n",
    "Nl_df"
   ]
  },
  {
   "cell_type": "code",
   "execution_count": 65,
   "id": "33fe9a0f",
   "metadata": {},
   "outputs": [
    {
     "data": {
      "text/plain": [
       "array([[0.        , 0.01332733],\n",
       "       [0.        , 0.0108172 ],\n",
       "       [0.        , 0.01436889],\n",
       "       ...,\n",
       "       [1.        , 0.1236953 ],\n",
       "       [1.        , 0.1236953 ],\n",
       "       [1.        , 0.1236953 ]])"
      ]
     },
     "execution_count": 65,
     "metadata": {},
     "output_type": "execute_result"
    }
   ],
   "source": [
    "# scaling the data\n",
    "min_max_scaler = MinMaxScaler()\n",
    "x_scaledNL = min_max_scaler.fit_transform(Nl_df)\n",
    "x_scaledNL"
   ]
  },
  {
   "cell_type": "code",
   "execution_count": 66,
   "id": "7fe58280",
   "metadata": {},
   "outputs": [],
   "source": [
    "#Predicting the labels using the already built model\n",
    "NL_preds = xgb_cl.predict(x_scaledNL) "
   ]
  },
  {
   "cell_type": "code",
   "execution_count": 67,
   "id": "90319370",
   "metadata": {
    "scrolled": true
   },
   "outputs": [
    {
     "data": {
      "text/plain": [
       "array([0, 0, 0, ..., 0, 0, 0], dtype=int64)"
      ]
     },
     "execution_count": 67,
     "metadata": {},
     "output_type": "execute_result"
    }
   ],
   "source": [
    "# Predicted labels\n",
    "NL_preds"
   ]
  },
  {
   "cell_type": "code",
   "execution_count": 68,
   "id": "6446631f",
   "metadata": {},
   "outputs": [
    {
     "data": {
      "text/html": [
       "<div>\n",
       "<style scoped>\n",
       "    .dataframe tbody tr th:only-of-type {\n",
       "        vertical-align: middle;\n",
       "    }\n",
       "\n",
       "    .dataframe tbody tr th {\n",
       "        vertical-align: top;\n",
       "    }\n",
       "\n",
       "    .dataframe thead th {\n",
       "        text-align: right;\n",
       "    }\n",
       "</style>\n",
       "<table border=\"1\" class=\"dataframe\">\n",
       "  <thead>\n",
       "    <tr style=\"text-align: right;\">\n",
       "      <th></th>\n",
       "      <th>Column Name</th>\n",
       "      <th>Transaction Value (Count or Avg)</th>\n",
       "      <th>IsAnAnomaly</th>\n",
       "    </tr>\n",
       "  </thead>\n",
       "  <tbody>\n",
       "    <tr>\n",
       "      <th>61</th>\n",
       "      <td>756</td>\n",
       "      <td>528349.70</td>\n",
       "      <td>0</td>\n",
       "    </tr>\n",
       "    <tr>\n",
       "      <th>62</th>\n",
       "      <td>756</td>\n",
       "      <td>428838.84</td>\n",
       "      <td>0</td>\n",
       "    </tr>\n",
       "    <tr>\n",
       "      <th>63</th>\n",
       "      <td>756</td>\n",
       "      <td>569641.20</td>\n",
       "      <td>0</td>\n",
       "    </tr>\n",
       "    <tr>\n",
       "      <th>64</th>\n",
       "      <td>756</td>\n",
       "      <td>446080.47</td>\n",
       "      <td>0</td>\n",
       "    </tr>\n",
       "    <tr>\n",
       "      <th>65</th>\n",
       "      <td>756</td>\n",
       "      <td>498157.66</td>\n",
       "      <td>0</td>\n",
       "    </tr>\n",
       "    <tr>\n",
       "      <th>...</th>\n",
       "      <td>...</td>\n",
       "      <td>...</td>\n",
       "      <td>...</td>\n",
       "    </tr>\n",
       "    <tr>\n",
       "      <th>2740</th>\n",
       "      <td>1815</td>\n",
       "      <td>4903751.63</td>\n",
       "      <td>0</td>\n",
       "    </tr>\n",
       "    <tr>\n",
       "      <th>2741</th>\n",
       "      <td>1815</td>\n",
       "      <td>4903751.63</td>\n",
       "      <td>0</td>\n",
       "    </tr>\n",
       "    <tr>\n",
       "      <th>2742</th>\n",
       "      <td>1815</td>\n",
       "      <td>4903751.63</td>\n",
       "      <td>0</td>\n",
       "    </tr>\n",
       "    <tr>\n",
       "      <th>2743</th>\n",
       "      <td>1815</td>\n",
       "      <td>4903751.63</td>\n",
       "      <td>0</td>\n",
       "    </tr>\n",
       "    <tr>\n",
       "      <th>2744</th>\n",
       "      <td>1815</td>\n",
       "      <td>4903751.63</td>\n",
       "      <td>0</td>\n",
       "    </tr>\n",
       "  </tbody>\n",
       "</table>\n",
       "<p>1830 rows × 3 columns</p>\n",
       "</div>"
      ],
      "text/plain": [
       "     Column Name  Transaction Value (Count or Avg)  IsAnAnomaly\n",
       "61           756                         528349.70            0\n",
       "62           756                         428838.84            0\n",
       "63           756                         569641.20            0\n",
       "64           756                         446080.47            0\n",
       "65           756                         498157.66            0\n",
       "...          ...                               ...          ...\n",
       "2740        1815                        4903751.63            0\n",
       "2741        1815                        4903751.63            0\n",
       "2742        1815                        4903751.63            0\n",
       "2743        1815                        4903751.63            0\n",
       "2744        1815                        4903751.63            0\n",
       "\n",
       "[1830 rows x 3 columns]"
      ]
     },
     "execution_count": 68,
     "metadata": {},
     "output_type": "execute_result"
    }
   ],
   "source": [
    "# Attaching the predicted labels as column to the unlabelled dataset\n",
    "Nl_df['IsAnAnomaly'] = NL_preds\n",
    "# Now the dataset with predicted labels\n",
    "Nl_df"
   ]
  },
  {
   "cell_type": "code",
   "execution_count": 69,
   "id": "d005b84d",
   "metadata": {},
   "outputs": [
    {
     "data": {
      "text/plain": [
       "0    1220\n",
       "1     610\n",
       "Name: IsAnAnomaly, dtype: int64"
      ]
     },
     "execution_count": 69,
     "metadata": {},
     "output_type": "execute_result"
    }
   ],
   "source": [
    "# Checking the count of each class of predicted labels\n",
    "Nl_df['IsAnAnomaly'].value_counts()"
   ]
  },
  {
   "cell_type": "markdown",
   "id": "59d408df",
   "metadata": {},
   "source": [
    "- Our model prected out of 1830 NA values 1220 are No anomaly and 610 are anomaly.\n",
    "- Here 'No' anomalies are twice as 'yes' anomalies, It is the same pattern what we found in the initial analysis."
   ]
  },
  {
   "cell_type": "markdown",
   "id": "569e7829",
   "metadata": {},
   "source": [
    "##### Desclaimer:\n",
    "    Here, the reason for choosing XGboost as the final model, despite the fact that it is overfitting, is that the dataset is too small and it has the same pattern behaviour when predicting labels as we discovered during our initial data analysis."
   ]
  },
  {
   "cell_type": "markdown",
   "id": "ff3de705",
   "metadata": {},
   "source": [
    "Please check Documentation.pdf for explanation."
   ]
  }
 ],
 "metadata": {
  "kernelspec": {
   "display_name": "Python 3",
   "language": "python",
   "name": "python3"
  },
  "language_info": {
   "codemirror_mode": {
    "name": "ipython",
    "version": 3
   },
   "file_extension": ".py",
   "mimetype": "text/x-python",
   "name": "python",
   "nbconvert_exporter": "python",
   "pygments_lexer": "ipython3",
   "version": "3.8.5"
  }
 },
 "nbformat": 4,
 "nbformat_minor": 5
}
