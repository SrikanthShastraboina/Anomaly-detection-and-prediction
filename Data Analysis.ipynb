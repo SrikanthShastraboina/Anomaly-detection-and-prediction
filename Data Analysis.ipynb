{
 "cells": [
  {
   "cell_type": "code",
   "execution_count": 1,
   "id": "12872af8",
   "metadata": {},
   "outputs": [],
   "source": [
    "#Importing required libraries\n",
    "import pandas as pd\n",
    "import matplotlib.pyplot as plt\n",
    "%matplotlib inline\n",
    "import seaborn as sns\n",
    "import warnings\n",
    "warnings.filterwarnings(\"ignore\")"
   ]
  },
  {
   "cell_type": "markdown",
   "id": "5bdf87cd",
   "metadata": {},
   "source": [
    "#### Exploratory Data Analysis"
   ]
  },
  {
   "cell_type": "code",
   "execution_count": 2,
   "id": "569d9ea4",
   "metadata": {
    "scrolled": true
   },
   "outputs": [
    {
     "data": {
      "text/html": [
       "<div>\n",
       "<style scoped>\n",
       "    .dataframe tbody tr th:only-of-type {\n",
       "        vertical-align: middle;\n",
       "    }\n",
       "\n",
       "    .dataframe tbody tr th {\n",
       "        vertical-align: top;\n",
       "    }\n",
       "\n",
       "    .dataframe thead th {\n",
       "        text-align: right;\n",
       "    }\n",
       "</style>\n",
       "<table border=\"1\" class=\"dataframe\">\n",
       "  <thead>\n",
       "    <tr style=\"text-align: right;\">\n",
       "      <th></th>\n",
       "      <th>Model Name</th>\n",
       "      <th>Column Name</th>\n",
       "      <th>Transaction Value (Count or Avg)</th>\n",
       "      <th>Transcation Month (YYYY|MM)</th>\n",
       "      <th>IsAnAnomaly</th>\n",
       "      <th>Snapshot Month (YYYYMM)</th>\n",
       "    </tr>\n",
       "  </thead>\n",
       "  <tbody>\n",
       "    <tr>\n",
       "      <th>0</th>\n",
       "      <td>TABLE_1</td>\n",
       "      <td>Column_756</td>\n",
       "      <td>428838.84</td>\n",
       "      <td>2016|02</td>\n",
       "      <td>NO</td>\n",
       "      <td>202104</td>\n",
       "    </tr>\n",
       "    <tr>\n",
       "      <th>1</th>\n",
       "      <td>TABLE_1</td>\n",
       "      <td>Column_756</td>\n",
       "      <td>569641.20</td>\n",
       "      <td>2016|03</td>\n",
       "      <td>NO</td>\n",
       "      <td>202104</td>\n",
       "    </tr>\n",
       "    <tr>\n",
       "      <th>2</th>\n",
       "      <td>TABLE_1</td>\n",
       "      <td>Column_756</td>\n",
       "      <td>446080.47</td>\n",
       "      <td>2016|04</td>\n",
       "      <td>NO</td>\n",
       "      <td>202104</td>\n",
       "    </tr>\n",
       "    <tr>\n",
       "      <th>3</th>\n",
       "      <td>TABLE_1</td>\n",
       "      <td>Column_756</td>\n",
       "      <td>498157.66</td>\n",
       "      <td>2016|05</td>\n",
       "      <td>NO</td>\n",
       "      <td>202104</td>\n",
       "    </tr>\n",
       "    <tr>\n",
       "      <th>4</th>\n",
       "      <td>TABLE_1</td>\n",
       "      <td>Column_756</td>\n",
       "      <td>521634.10</td>\n",
       "      <td>2016|06</td>\n",
       "      <td>NO</td>\n",
       "      <td>202104</td>\n",
       "    </tr>\n",
       "  </tbody>\n",
       "</table>\n",
       "</div>"
      ],
      "text/plain": [
       "  Model Name Column Name  Transaction Value (Count or Avg)  \\\n",
       "0    TABLE_1  Column_756                         428838.84   \n",
       "1    TABLE_1  Column_756                         569641.20   \n",
       "2    TABLE_1  Column_756                         446080.47   \n",
       "3    TABLE_1  Column_756                         498157.66   \n",
       "4    TABLE_1  Column_756                         521634.10   \n",
       "\n",
       "  Transcation Month (YYYY|MM) IsAnAnomaly  Snapshot Month (YYYYMM)  \n",
       "0                     2016|02          NO                   202104  \n",
       "1                     2016|03          NO                   202104  \n",
       "2                     2016|04          NO                   202104  \n",
       "3                     2016|05          NO                   202104  \n",
       "4                     2016|06          NO                   202104  "
      ]
     },
     "execution_count": 2,
     "metadata": {},
     "output_type": "execute_result"
    }
   ],
   "source": [
    "# Import the dataset\n",
    "df = pd.read_csv('sample_labeled_data (1).csv')\n",
    "df.head()"
   ]
  },
  {
   "cell_type": "code",
   "execution_count": 3,
   "id": "7474f0eb",
   "metadata": {},
   "outputs": [
    {
     "data": {
      "text/plain": [
       "(2745, 6)"
      ]
     },
     "execution_count": 3,
     "metadata": {},
     "output_type": "execute_result"
    }
   ],
   "source": [
    "df.shape"
   ]
  },
  {
   "cell_type": "code",
   "execution_count": 4,
   "id": "3216e109",
   "metadata": {
    "scrolled": false
   },
   "outputs": [
    {
     "name": "stdout",
     "output_type": "stream",
     "text": [
      "<class 'pandas.core.frame.DataFrame'>\n",
      "RangeIndex: 2745 entries, 0 to 2744\n",
      "Data columns (total 6 columns):\n",
      " #   Column                            Non-Null Count  Dtype  \n",
      "---  ------                            --------------  -----  \n",
      " 0   Model Name                        2745 non-null   object \n",
      " 1   Column Name                       2745 non-null   object \n",
      " 2   Transaction Value (Count or Avg)  2745 non-null   float64\n",
      " 3   Transcation Month (YYYY|MM)       2745 non-null   object \n",
      " 4   IsAnAnomaly                       915 non-null    object \n",
      " 5   Snapshot Month (YYYYMM)           2745 non-null   int64  \n",
      "dtypes: float64(1), int64(1), object(4)\n",
      "memory usage: 128.8+ KB\n"
     ]
    }
   ],
   "source": [
    "df.info()"
   ]
  },
  {
   "cell_type": "markdown",
   "id": "577cb2cb",
   "metadata": {},
   "source": [
    "- column IsAnAnomaly has only 915 non null values out of 2745"
   ]
  },
  {
   "cell_type": "code",
   "execution_count": 5,
   "id": "cbaca4dd",
   "metadata": {
    "scrolled": false
   },
   "outputs": [
    {
     "data": {
      "text/html": [
       "<div>\n",
       "<style scoped>\n",
       "    .dataframe tbody tr th:only-of-type {\n",
       "        vertical-align: middle;\n",
       "    }\n",
       "\n",
       "    .dataframe tbody tr th {\n",
       "        vertical-align: top;\n",
       "    }\n",
       "\n",
       "    .dataframe thead th {\n",
       "        text-align: right;\n",
       "    }\n",
       "</style>\n",
       "<table border=\"1\" class=\"dataframe\">\n",
       "  <thead>\n",
       "    <tr style=\"text-align: right;\">\n",
       "      <th></th>\n",
       "      <th>Transaction Value (Count or Avg)</th>\n",
       "      <th>Snapshot Month (YYYYMM)</th>\n",
       "    </tr>\n",
       "  </thead>\n",
       "  <tbody>\n",
       "    <tr>\n",
       "      <th>count</th>\n",
       "      <td>2.745000e+03</td>\n",
       "      <td>2745.000000</td>\n",
       "    </tr>\n",
       "    <tr>\n",
       "      <th>mean</th>\n",
       "      <td>3.349557e+06</td>\n",
       "      <td>202094.377778</td>\n",
       "    </tr>\n",
       "    <tr>\n",
       "      <th>std</th>\n",
       "      <td>7.714498e+06</td>\n",
       "      <td>25.830867</td>\n",
       "    </tr>\n",
       "    <tr>\n",
       "      <th>min</th>\n",
       "      <td>0.000000e+00</td>\n",
       "      <td>202011.000000</td>\n",
       "    </tr>\n",
       "    <tr>\n",
       "      <th>25%</th>\n",
       "      <td>0.000000e+00</td>\n",
       "      <td>202101.000000</td>\n",
       "    </tr>\n",
       "    <tr>\n",
       "      <th>50%</th>\n",
       "      <td>1.649302e+05</td>\n",
       "      <td>202102.000000</td>\n",
       "    </tr>\n",
       "    <tr>\n",
       "      <th>75%</th>\n",
       "      <td>2.632313e+06</td>\n",
       "      <td>202103.000000</td>\n",
       "    </tr>\n",
       "    <tr>\n",
       "      <th>max</th>\n",
       "      <td>3.964377e+07</td>\n",
       "      <td>202104.000000</td>\n",
       "    </tr>\n",
       "  </tbody>\n",
       "</table>\n",
       "</div>"
      ],
      "text/plain": [
       "       Transaction Value (Count or Avg)  Snapshot Month (YYYYMM)\n",
       "count                      2.745000e+03              2745.000000\n",
       "mean                       3.349557e+06            202094.377778\n",
       "std                        7.714498e+06                25.830867\n",
       "min                        0.000000e+00            202011.000000\n",
       "25%                        0.000000e+00            202101.000000\n",
       "50%                        1.649302e+05            202102.000000\n",
       "75%                        2.632313e+06            202103.000000\n",
       "max                        3.964377e+07            202104.000000"
      ]
     },
     "execution_count": 5,
     "metadata": {},
     "output_type": "execute_result"
    }
   ],
   "source": [
    "df.describe()"
   ]
  },
  {
   "cell_type": "markdown",
   "id": "6922a4f4",
   "metadata": {},
   "source": [
    "- Difference between mean and meadian is significant for column Transaction Value (Count or Avg). So, it is not following normal distribution."
   ]
  },
  {
   "cell_type": "code",
   "execution_count": 6,
   "id": "536cd65b",
   "metadata": {
    "scrolled": true
   },
   "outputs": [
    {
     "data": {
      "text/plain": [
       "Model Name                             0\n",
       "Column Name                            0\n",
       "Transaction Value (Count or Avg)       0\n",
       "Transcation Month (YYYY|MM)            0\n",
       "IsAnAnomaly                         1830\n",
       "Snapshot Month (YYYYMM)                0\n",
       "dtype: int64"
      ]
     },
     "execution_count": 6,
     "metadata": {},
     "output_type": "execute_result"
    }
   ],
   "source": [
    "df.isna().sum()"
   ]
  },
  {
   "cell_type": "markdown",
   "id": "2351d328",
   "metadata": {},
   "source": [
    "- The output feature IsAnAnomaly has 1830 missing records in it."
   ]
  },
  {
   "cell_type": "code",
   "execution_count": 7,
   "id": "a58a86f1",
   "metadata": {
    "scrolled": true
   },
   "outputs": [
    {
     "data": {
      "text/html": [
       "<div>\n",
       "<style scoped>\n",
       "    .dataframe tbody tr th:only-of-type {\n",
       "        vertical-align: middle;\n",
       "    }\n",
       "\n",
       "    .dataframe tbody tr th {\n",
       "        vertical-align: top;\n",
       "    }\n",
       "\n",
       "    .dataframe thead th {\n",
       "        text-align: right;\n",
       "    }\n",
       "</style>\n",
       "<table border=\"1\" class=\"dataframe\">\n",
       "  <thead>\n",
       "    <tr style=\"text-align: right;\">\n",
       "      <th></th>\n",
       "      <th>Model Name</th>\n",
       "      <th>Column Name</th>\n",
       "      <th>Transaction Value (Count or Avg)</th>\n",
       "      <th>Transcation Month (YYYY|MM)</th>\n",
       "      <th>IsAnAnomaly</th>\n",
       "      <th>Snapshot Month (YYYYMM)</th>\n",
       "    </tr>\n",
       "  </thead>\n",
       "  <tbody>\n",
       "    <tr>\n",
       "      <th>0</th>\n",
       "      <td>TABLE_1</td>\n",
       "      <td>Column_756</td>\n",
       "      <td>428838.84</td>\n",
       "      <td>2016-02-01</td>\n",
       "      <td>NO</td>\n",
       "      <td>2021-04-01</td>\n",
       "    </tr>\n",
       "    <tr>\n",
       "      <th>1</th>\n",
       "      <td>TABLE_1</td>\n",
       "      <td>Column_756</td>\n",
       "      <td>569641.20</td>\n",
       "      <td>2016-03-01</td>\n",
       "      <td>NO</td>\n",
       "      <td>2021-04-01</td>\n",
       "    </tr>\n",
       "    <tr>\n",
       "      <th>2</th>\n",
       "      <td>TABLE_1</td>\n",
       "      <td>Column_756</td>\n",
       "      <td>446080.47</td>\n",
       "      <td>2016-04-01</td>\n",
       "      <td>NO</td>\n",
       "      <td>2021-04-01</td>\n",
       "    </tr>\n",
       "    <tr>\n",
       "      <th>3</th>\n",
       "      <td>TABLE_1</td>\n",
       "      <td>Column_756</td>\n",
       "      <td>498157.66</td>\n",
       "      <td>2016-05-01</td>\n",
       "      <td>NO</td>\n",
       "      <td>2021-04-01</td>\n",
       "    </tr>\n",
       "    <tr>\n",
       "      <th>4</th>\n",
       "      <td>TABLE_1</td>\n",
       "      <td>Column_756</td>\n",
       "      <td>521634.10</td>\n",
       "      <td>2016-06-01</td>\n",
       "      <td>NO</td>\n",
       "      <td>2021-04-01</td>\n",
       "    </tr>\n",
       "    <tr>\n",
       "      <th>...</th>\n",
       "      <td>...</td>\n",
       "      <td>...</td>\n",
       "      <td>...</td>\n",
       "      <td>...</td>\n",
       "      <td>...</td>\n",
       "      <td>...</td>\n",
       "    </tr>\n",
       "    <tr>\n",
       "      <th>2740</th>\n",
       "      <td>TABLE_1</td>\n",
       "      <td>Column_1815</td>\n",
       "      <td>0.00</td>\n",
       "      <td>2020-08-01</td>\n",
       "      <td>NaN</td>\n",
       "      <td>2021-02-01</td>\n",
       "    </tr>\n",
       "    <tr>\n",
       "      <th>2741</th>\n",
       "      <td>TABLE_1</td>\n",
       "      <td>Column_1815</td>\n",
       "      <td>0.00</td>\n",
       "      <td>2020-09-01</td>\n",
       "      <td>NaN</td>\n",
       "      <td>2021-02-01</td>\n",
       "    </tr>\n",
       "    <tr>\n",
       "      <th>2742</th>\n",
       "      <td>TABLE_1</td>\n",
       "      <td>Column_1815</td>\n",
       "      <td>0.00</td>\n",
       "      <td>2020-10-01</td>\n",
       "      <td>NaN</td>\n",
       "      <td>2021-02-01</td>\n",
       "    </tr>\n",
       "    <tr>\n",
       "      <th>2743</th>\n",
       "      <td>TABLE_1</td>\n",
       "      <td>Column_1815</td>\n",
       "      <td>0.00</td>\n",
       "      <td>2020-11-01</td>\n",
       "      <td>NaN</td>\n",
       "      <td>2021-02-01</td>\n",
       "    </tr>\n",
       "    <tr>\n",
       "      <th>2744</th>\n",
       "      <td>TABLE_1</td>\n",
       "      <td>Column_1815</td>\n",
       "      <td>0.00</td>\n",
       "      <td>2020-12-01</td>\n",
       "      <td>NaN</td>\n",
       "      <td>2021-02-01</td>\n",
       "    </tr>\n",
       "  </tbody>\n",
       "</table>\n",
       "<p>2745 rows × 6 columns</p>\n",
       "</div>"
      ],
      "text/plain": [
       "     Model Name  Column Name  Transaction Value (Count or Avg)  \\\n",
       "0       TABLE_1   Column_756                         428838.84   \n",
       "1       TABLE_1   Column_756                         569641.20   \n",
       "2       TABLE_1   Column_756                         446080.47   \n",
       "3       TABLE_1   Column_756                         498157.66   \n",
       "4       TABLE_1   Column_756                         521634.10   \n",
       "...         ...          ...                               ...   \n",
       "2740    TABLE_1  Column_1815                              0.00   \n",
       "2741    TABLE_1  Column_1815                              0.00   \n",
       "2742    TABLE_1  Column_1815                              0.00   \n",
       "2743    TABLE_1  Column_1815                              0.00   \n",
       "2744    TABLE_1  Column_1815                              0.00   \n",
       "\n",
       "     Transcation Month (YYYY|MM) IsAnAnomaly Snapshot Month (YYYYMM)  \n",
       "0                     2016-02-01          NO              2021-04-01  \n",
       "1                     2016-03-01          NO              2021-04-01  \n",
       "2                     2016-04-01          NO              2021-04-01  \n",
       "3                     2016-05-01          NO              2021-04-01  \n",
       "4                     2016-06-01          NO              2021-04-01  \n",
       "...                          ...         ...                     ...  \n",
       "2740                  2020-08-01         NaN              2021-02-01  \n",
       "2741                  2020-09-01         NaN              2021-02-01  \n",
       "2742                  2020-10-01         NaN              2021-02-01  \n",
       "2743                  2020-11-01         NaN              2021-02-01  \n",
       "2744                  2020-12-01         NaN              2021-02-01  \n",
       "\n",
       "[2745 rows x 6 columns]"
      ]
     },
     "execution_count": 7,
     "metadata": {},
     "output_type": "execute_result"
    }
   ],
   "source": [
    "# Changing Transcation Month (YYYY|MM) and Snapshot Month (YYYYMM) columns data type into datetime objects\n",
    "df['Transcation Month (YYYY|MM)'] = df['Transcation Month (YYYY|MM)'].apply(lambda x: x.split('|'))\n",
    "df['Transcation Month (YYYY|MM)'] = df['Transcation Month (YYYY|MM)'].apply(lambda x: ''.join(x))\n",
    "df['Transcation Month (YYYY|MM)'] = pd.to_datetime(df['Transcation Month (YYYY|MM)'], format='%Y%m')\n",
    "df['Snapshot Month (YYYYMM)'] = pd.to_datetime(df['Snapshot Month (YYYYMM)'], format='%Y%m')\n",
    "df"
   ]
  },
  {
   "cell_type": "code",
   "execution_count": 8,
   "id": "41931dd3",
   "metadata": {},
   "outputs": [],
   "source": [
    "# To visualize output variable converting NA to unknown\n",
    "df['IsAnAnomaly'].fillna(value='unknown',inplace = True)"
   ]
  },
  {
   "cell_type": "code",
   "execution_count": 9,
   "id": "9dd0eef7",
   "metadata": {
    "scrolled": false
   },
   "outputs": [
    {
     "data": {
      "text/plain": [
       "Model Name                          0\n",
       "Column Name                         0\n",
       "Transaction Value (Count or Avg)    0\n",
       "Transcation Month (YYYY|MM)         0\n",
       "IsAnAnomaly                         0\n",
       "Snapshot Month (YYYYMM)             0\n",
       "dtype: int64"
      ]
     },
     "execution_count": 9,
     "metadata": {},
     "output_type": "execute_result"
    }
   ],
   "source": [
    "df.isna().sum()"
   ]
  },
  {
   "cell_type": "markdown",
   "id": "82c0c13e",
   "metadata": {},
   "source": [
    "- Now no Nan values present in the dataset"
   ]
  },
  {
   "cell_type": "code",
   "execution_count": 10,
   "id": "c23ce782",
   "metadata": {
    "scrolled": true
   },
   "outputs": [
    {
     "data": {
      "text/plain": [
       "<AxesSubplot:xlabel='IsAnAnomaly', ylabel='Count'>"
      ]
     },
     "execution_count": 10,
     "metadata": {},
     "output_type": "execute_result"
    },
    {
     "data": {
      "image/png": "[encoded data removed]",
      "text/plain": [
       "<Figure size 432x288 with 1 Axes>"
      ]
     },
     "metadata": {
      "needs_background": "light"
     },
     "output_type": "display_data"
    }
   ],
   "source": [
    "sns.histplot(df['IsAnAnomaly'])"
   ]
  },
  {
   "cell_type": "markdown",
   "id": "1d084162",
   "metadata": {},
   "source": [
    "- Clear imbalance between output classes"
   ]
  },
  {
   "cell_type": "code",
   "execution_count": 11,
   "id": "ac883038",
   "metadata": {
    "scrolled": false
   },
   "outputs": [
    {
     "data": {
      "text/plain": [
       "<AxesSubplot:xlabel='IsAnAnomaly', ylabel='Transaction Value (Count or Avg)'>"
      ]
     },
     "execution_count": 11,
     "metadata": {},
     "output_type": "execute_result"
    },
    {
     "data": {
      "image/png": "[encoded data removed]",
      "text/plain": [
       "<Figure size 432x288 with 1 Axes>"
      ]
     },
     "metadata": {
      "needs_background": "light"
     },
     "output_type": "display_data"
    }
   ],
   "source": [
    "sns.scatterplot(x='IsAnAnomaly',y = df['Transaction Value (Count or Avg)']/1000000,data=df)"
   ]
  },
  {
   "cell_type": "markdown",
   "id": "d7592aa5",
   "metadata": {},
   "source": [
    "- Upon observing the distribution of output feature it is evident that Transaction value upto 15m we can say it is anomaly and above\n",
    "15m is not anomaly.\n",
    "- Based on this information we can tell unknkown anomaly class which is anomaly and which is not.\n",
    "- Here, we can say Transaction value <= 15m is Anomaly, Transaction value > 15m is Not an Anomaly"
   ]
  },
  {
   "cell_type": "code",
   "execution_count": 12,
   "id": "273bb1b7",
   "metadata": {
    "scrolled": true
   },
   "outputs": [
    {
     "data": {
      "text/plain": [
       "<AxesSubplot:xlabel='Snapshot Month (YYYYMM)', ylabel='Transaction Value (Count or Avg)'>"
      ]
     },
     "execution_count": 12,
     "metadata": {},
     "output_type": "execute_result"
    },
    {
     "data": {
      "image/png": "[encoded data removed]",
      "text/plain": [
       "<Figure size 432x288 with 1 Axes>"
      ]
     },
     "metadata": {
      "needs_background": "light"
     },
     "output_type": "display_data"
    }
   ],
   "source": [
    "sns.lineplot(x = 'Snapshot Month (YYYYMM)',y=df['Transaction Value (Count or Avg)']/1000000,data=df)"
   ]
  },
  {
   "cell_type": "markdown",
   "id": "543b4400",
   "metadata": {},
   "source": [
    "- The transaction values in 2020-11 is 0, In 2020-12 it is started increasing.\n",
    "- There is a sharp raise in 2021-01.\n",
    "- In 2021-02 there is a slight dip.\n",
    "- In 2021-03 there is sligh upward movement we can see.\n",
    "- In 2021-04 it is again fell down."
   ]
  },
  {
   "cell_type": "code",
   "execution_count": 13,
   "id": "5da91bd2",
   "metadata": {},
   "outputs": [
    {
     "data": {
      "text/plain": [
       "unknown    1830\n",
       "NO          610\n",
       "YES         305\n",
       "Name: IsAnAnomaly, dtype: int64"
      ]
     },
     "execution_count": 13,
     "metadata": {},
     "output_type": "execute_result"
    }
   ],
   "source": [
    "df['IsAnAnomaly'].value_counts()"
   ]
  },
  {
   "cell_type": "code",
   "execution_count": 14,
   "id": "5098be0b",
   "metadata": {},
   "outputs": [],
   "source": [
    "df['IsAnAnomaly'] = df['IsAnAnomaly'].map({'unknown':2,'NO':0,'YES':1})"
   ]
  },
  {
   "cell_type": "code",
   "execution_count": 15,
   "id": "b4b704ae",
   "metadata": {
    "scrolled": false
   },
   "outputs": [
    {
     "data": {
      "text/plain": [
       "<AxesSubplot:xlabel='Snapshot Month (YYYYMM)', ylabel='IsAnAnomaly'>"
      ]
     },
     "execution_count": 15,
     "metadata": {},
     "output_type": "execute_result"
    },
    {
     "data": {
      "image/png": "[encoded data removed]",
      "text/plain": [
       "<Figure size 432x288 with 1 Axes>"
      ]
     },
     "metadata": {
      "needs_background": "light"
     },
     "output_type": "display_data"
    }
   ],
   "source": [
    "# Anomaly - NO\n",
    "sns.lineplot(df['Snapshot Month (YYYYMM)'],y = df['IsAnAnomaly']==0)"
   ]
  },
  {
   "cell_type": "markdown",
   "id": "61625bdc",
   "metadata": {},
   "source": [
    "- Anomaly= NO count incresed over a period of time"
   ]
  },
  {
   "cell_type": "code",
   "execution_count": 16,
   "id": "592a37db",
   "metadata": {
    "scrolled": true
   },
   "outputs": [
    {
     "data": {
      "text/plain": [
       "<AxesSubplot:xlabel='Snapshot Month (YYYYMM)', ylabel='IsAnAnomaly'>"
      ]
     },
     "execution_count": 16,
     "metadata": {},
     "output_type": "execute_result"
    },
    {
     "data": {
      "image/png": "[encoded data removed]",
      "text/plain": [
       "<Figure size 432x288 with 1 Axes>"
      ]
     },
     "metadata": {
      "needs_background": "light"
     },
     "output_type": "display_data"
    }
   ],
   "source": [
    "#Anomaly - Yes\n",
    "sns.lineplot(df['Snapshot Month (YYYYMM)'],y = df['IsAnAnomaly']==1)"
   ]
  },
  {
   "cell_type": "markdown",
   "id": "bb489fc3",
   "metadata": {},
   "source": [
    "- Anomaly = Yes increased over a period of time; In 2021-03 it is deccreased"
   ]
  },
  {
   "cell_type": "code",
   "execution_count": 17,
   "id": "4ea06778",
   "metadata": {
    "scrolled": true
   },
   "outputs": [
    {
     "data": {
      "text/plain": [
       "<AxesSubplot:xlabel='Snapshot Month (YYYYMM)', ylabel='IsAnAnomaly'>"
      ]
     },
     "execution_count": 17,
     "metadata": {},
     "output_type": "execute_result"
    },
    {
     "data": {
      "image/png": "[encoded data removed]",
      "text/plain": [
       "<Figure size 432x288 with 1 Axes>"
      ]
     },
     "metadata": {
      "needs_background": "light"
     },
     "output_type": "display_data"
    }
   ],
   "source": [
    "#Anomaly - Unknown (NA) \n",
    "sns.lineplot(df['Snapshot Month (YYYYMM)'],y = df['IsAnAnomaly']==2)"
   ]
  },
  {
   "cell_type": "markdown",
   "id": "666ba460",
   "metadata": {},
   "source": [
    "- Anomaly=Unknown (NA) is keep on reducing month by month\n",
    "- By 2021-04 the NA values are decreased to zero."
   ]
  },
  {
   "cell_type": "code",
   "execution_count": 18,
   "id": "76580780",
   "metadata": {
    "scrolled": true
   },
   "outputs": [
    {
     "data": {
      "text/plain": [
       "(<AxesSubplot:xlabel='Snapshot Month (YYYYMM)', ylabel='IsAnAnomaly'>,\n",
       " <AxesSubplot:xlabel='Snapshot Month (YYYYMM)', ylabel='IsAnAnomaly'>,\n",
       " <AxesSubplot:xlabel='Snapshot Month (YYYYMM)', ylabel='IsAnAnomaly'>)"
      ]
     },
     "execution_count": 18,
     "metadata": {},
     "output_type": "execute_result"
    },
    {
     "data": {
      "image/png": "[encoded data removed]",
      "text/plain": [
       "<Figure size 432x288 with 1 Axes>"
      ]
     },
     "metadata": {
      "needs_background": "light"
     },
     "output_type": "display_data"
    }
   ],
   "source": [
    "sns.lineplot(df['Snapshot Month (YYYYMM)'],y = df['IsAnAnomaly']==0),sns.lineplot(df['Snapshot Month (YYYYMM)'],y = df['IsAnAnomaly']==1),sns.lineplot(df['Snapshot Month (YYYYMM)'],y = df['IsAnAnomaly']==2)"
   ]
  },
  {
   "cell_type": "markdown",
   "id": "70623004",
   "metadata": {},
   "source": [
    "### EDA  report"
   ]
  },
  {
   "cell_type": "markdown",
   "id": "658f017d",
   "metadata": {},
   "source": [
    "##### Patterns that found in  dataset using excel in the Initial analysis\n",
    "\n",
    "- NA (Missing) = 1830; labelled (Yes and No) = 915; For each of labelled record, there is twice number of Nan's present\n",
    "- labelled = 915; Yes = 305; No= 610; For each of IsAnAnomaly Yes, there is twice number fo No's present.\n",
    "- snap 202011 has anomalies as only NA and all transactions are 0\n",
    "- snap 202012 has anomalies as only NA \n",
    "- snap 202102 has anomalies as NA and No \n",
    "- snap 202102 has anomalies as NA and Yes\n",
    "- snap 202103 has anomalies as NA, Yes and No\n",
    "- snap 202104 has anomalies as Yes and No"
   ]
  },
  {
   "cell_type": "markdown",
   "id": "6eba695c",
   "metadata": {},
   "source": [
    "##### Missing data:  \n",
    "    - Only IsAnAnomaly column has missing values total 1830 out of 2745 records   \n",
    "\n",
    "##### Spikes and drops (Transaction Value (Count or Avg):  \n",
    "    - The transaction values in 2020-11 is 0, In 2020-12 it is started increasing.\n",
    "    - There is a sharp raise in 2021-01.\n",
    "    - In 2021-02 there is a slight dip.\n",
    "    - In 2021-03 there is sligh upward movement we can see.\n",
    "    - In 2021-04 it is again fell down. \n",
    "        \n",
    "##### Spikes and drops (IsAnAnomaly):  \n",
    "    - Anomaly= NO count incresed over a period of time  \n",
    "    - Anomaly = Yes increased over a period of time  \n",
    "    - Anomaly = Unknown (NA) is keep on reducing month by month\n",
    "    - By 2021-04 the NA values are decreased to zero.  \n",
    "        \n",
    "        "
   ]
  },
  {
   "cell_type": "markdown",
   "id": "a8ea8123",
   "metadata": {},
   "source": [
    "#### Comaprision of recent snapshot with rest"
   ]
  },
  {
   "cell_type": "markdown",
   "id": "061e6a67",
   "metadata": {},
   "source": [
    "- According to the data, recent snapshot is 2021-04\n",
    "- NA values count has become zero in 2021-04\n",
    "- Anomaly Yes and No are increased compared to other snapshots\n",
    "- Trasaction count has been decreased in 2021-04 compared to 2020-12,2021-01, 2021,02 and 2021-03. "
   ]
  },
  {
   "cell_type": "markdown",
   "id": "531085b0",
   "metadata": {},
   "source": [
    "### Model Building Ideas"
   ]
  },
  {
   "cell_type": "markdown",
   "id": "24adfeec",
   "metadata": {},
   "source": [
    "#### Approach 1:\n",
    "- We can replace NA values with Yes or No anomaly using transaction count\n",
    "- If transaction value <= 15m it is anomaly\n",
    "- If transaction value > 15m it is not anomaly "
   ]
  },
  {
   "cell_type": "markdown",
   "id": "5aa1afd7",
   "metadata": {},
   "source": [
    "#### Approach 2:\n",
    "- Train a supervise ML model using labeled (Yes and No) data\n",
    "- Use this model to predict labels for unlabeled data (NA) as test data\n",
    "\n",
    "We are selecting Aprroach 2. Please check 'ML model for prediction' notebook file"
   ]
  },
  {
   "cell_type": "markdown",
   "id": "058a91bc",
   "metadata": {},
   "source": [
    "Please check Model.ipynb for prediction model."
   ]
  },
  {
   "cell_type": "code",
   "execution_count": null,
   "id": "00c03d7b",
   "metadata": {},
   "outputs": [],
   "source": []
  }
 ],
 "metadata": {
  "kernelspec": {
   "display_name": "Python 3",
   "language": "python",
   "name": "python3"
  },
  "language_info": {
   "codemirror_mode": {
    "name": "ipython",
    "version": 3
   },
   "file_extension": ".py",
   "mimetype": "text/x-python",
   "name": "python",
   "nbconvert_exporter": "python",
   "pygments_lexer": "ipython3",
   "version": "3.8.5"
  }
 },
 "nbformat": 4,
 "nbformat_minor": 5
}
